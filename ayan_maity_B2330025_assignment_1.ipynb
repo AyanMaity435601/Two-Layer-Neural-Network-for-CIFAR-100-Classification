{
 "cells": [
  {
   "cell_type": "markdown",
   "metadata": {},
   "source": [
    "# Implementing a simple two layers neural network\n",
    "In this exercise we will develop a two neural network with fully-connected layers to perform classification, and test it out on the MNIST dataset.\n"
   ]
  },
  {
   "cell_type": "code",
   "execution_count": 1,
   "metadata": {},
   "outputs": [],
   "source": [
    "\"\"\"\n",
    "-----------------------------------------------------------------------------\n",
    "A simple two layers neural network for handwritten digit classification (MNIST)\n",
    "-----------------------------------------------------------------------------\n",
    "AUTHOR: Soumitra Samanta (soumitra.samanta@gm.rkmvu.ac.in)\n",
    "-----------------------------------------------------------------------------\n",
    "\"\"\"\n",
    "\n",
    "import gzip\n",
    "import numpy as np\n",
    "import matplotlib.pyplot as plt\n",
    "import copy\n",
    "\n",
    "from first_nn_sol import *\n",
    "\n",
    "# for auto-reloading external modules\n",
    "# see http://stackoverflow.com/questions/1907993/autoreload-of-modules-in-ipython\n",
    "%load_ext autoreload\n",
    "%autoreload 2\n"
   ]
  },
  {
   "cell_type": "code",
   "execution_count": 3,
   "metadata": {},
   "outputs": [
    {
     "data": {
      "application/vnd.jupyter.widget-view+json": {
       "model_id": "3dd7e82e9c0f45318bc18c90bf803128",
       "version_major": 2,
       "version_minor": 0
      },
      "text/plain": [
       "README.md:   0%|          | 0.00/9.98k [00:00<?, ?B/s]"
      ]
     },
     "metadata": {},
     "output_type": "display_data"
    },
    {
     "name": "stderr",
     "output_type": "stream",
     "text": [
      "c:\\Users\\PC\\AppData\\Local\\Programs\\Python\\Python311\\Lib\\site-packages\\huggingface_hub\\file_download.py:147: UserWarning: `huggingface_hub` cache-system uses symlinks by default to efficiently store duplicated files but your machine does not support them in C:\\Users\\PC\\.cache\\huggingface\\hub\\datasets--cifar100. Caching files will still work but in a degraded version that might require more space on your disk. This warning can be disabled by setting the `HF_HUB_DISABLE_SYMLINKS_WARNING` environment variable. For more details, see https://huggingface.co/docs/huggingface_hub/how-to-cache#limitations.\n",
      "To support symlinks on Windows, you either need to activate Developer Mode or to run Python as an administrator. In order to activate developer mode, see this article: https://docs.microsoft.com/en-us/windows/apps/get-started/enable-your-device-for-development\n",
      "  warnings.warn(message)\n"
     ]
    },
    {
     "data": {
      "application/vnd.jupyter.widget-view+json": {
       "model_id": "f5aeff80a0ba432c89c094f3f5d9f0e8",
       "version_major": 2,
       "version_minor": 0
      },
      "text/plain": [
       "train-00000-of-00001.parquet:   0%|          | 0.00/119M [00:00<?, ?B/s]"
      ]
     },
     "metadata": {},
     "output_type": "display_data"
    },
    {
     "data": {
      "application/vnd.jupyter.widget-view+json": {
       "model_id": "9dfc8f2ecf444b7f83eb4f6bc01ae0b6",
       "version_major": 2,
       "version_minor": 0
      },
      "text/plain": [
       "test-00000-of-00001.parquet:   0%|          | 0.00/23.8M [00:00<?, ?B/s]"
      ]
     },
     "metadata": {},
     "output_type": "display_data"
    },
    {
     "data": {
      "application/vnd.jupyter.widget-view+json": {
       "model_id": "77292f72db404a3f8c9442ad7181d818",
       "version_major": 2,
       "version_minor": 0
      },
      "text/plain": [
       "Generating train split:   0%|          | 0/50000 [00:00<?, ? examples/s]"
      ]
     },
     "metadata": {},
     "output_type": "display_data"
    },
    {
     "data": {
      "application/vnd.jupyter.widget-view+json": {
       "model_id": "657869a7f9474d8ab3cdd88fed40b1a2",
       "version_major": 2,
       "version_minor": 0
      },
      "text/plain": [
       "Generating test split:   0%|          | 0/10000 [00:00<?, ? examples/s]"
      ]
     },
     "metadata": {},
     "output_type": "display_data"
    },
    {
     "name": "stdout",
     "output_type": "stream",
     "text": [
      "Train data (X) size: (50000, 32, 32, 3), and labels (Y) size: (50000,)\n",
      "Test data (X) size: (10000, 32, 32, 3), and labels (Y) size: (10000,)\n"
     ]
    }
   ],
   "source": [
    "from datasets import load_dataset\n",
    "import numpy as np\n",
    "\n",
    "dataset = load_dataset(\"cifar100\")\n",
    "\n",
    "train_dataset = dataset['train']\n",
    "test_dataset = dataset['test']\n",
    "\n",
    "train_images = np.array([np.array(image) for image in train_dataset['img']])\n",
    "train_labels = np.array(train_dataset['fine_label'])\n",
    "\n",
    "test_images = np.array([np.array(image) for image in test_dataset['img']])\n",
    "test_labels = np.array(test_dataset['fine_label'])\n",
    "\n",
    "print('Train data (X) size: {}, and labels (Y) size: {}'.format(train_images.shape, train_labels.shape))\n",
    "print('Test data (X) size: {}, and labels (Y) size: {}'.format(test_images.shape, test_labels.shape))"
   ]
  },
  {
   "cell_type": "code",
   "execution_count": 11,
   "metadata": {},
   "outputs": [
    {
     "data": {
      "image/png": "[encoded data removed]",
      "text/plain": [
       "<Figure size 640x480 with 1 Axes>"
      ]
     },
     "metadata": {},
     "output_type": "display_data"
    }
   ],
   "source": [
    "\n",
    "rand_ids = np.random.choice(train_images.shape[0])\n",
    "plt.imshow(train_images[rand_ids, :, :], cmap='gray')\n",
    "plt.title('class-'+str(train_labels[rand_ids]))\n",
    "plt.show()"
   ]
  },
  {
   "cell_type": "markdown",
   "metadata": {},
   "source": [
    "# TODO: Create a validation data from training data (10%) and transform the data in $\\mathbf{R}^d$."
   ]
  },
  {
   "cell_type": "code",
   "execution_count": 12,
   "metadata": {},
   "outputs": [
    {
     "name": "stdout",
     "output_type": "stream",
     "text": [
      "Val data (X) size: (5000, 32, 32, 3), and labels (Y) size: (5000,)\n",
      "After reshape\n",
      "\n",
      "Train data (X) size: (49900, 3072), and labels (Y) size: (49900,)\n",
      "Val data (X) size: (5000, 3072), and labels (Y) size: (5000,)\n",
      "Test data (X) size: (10000, 3072), and labels (Y) size: (10000,)\n"
     ]
    }
   ],
   "source": [
    "val_data_ration = 0.1\n",
    "class_ids = list(set(train_labels))\n",
    "val_ids = []\n",
    "for cl in class_ids:\n",
    "    temp_val_index = np.where(train_labels==cl)\n",
    "    val_ids.extend(list(np.random.permutation(temp_val_index[0])[:round(temp_val_index[0].shape[0]*val_data_ration)]))\n",
    "# print(val_ids)     \n",
    "val_images = train_images[val_ids, :, :]  \n",
    "val_labels = train_labels[val_ids]  \n",
    "print('Val data (X) size: {}, and labels (Y) size: {}' .format(val_images.shape, val_labels.shape))\n",
    "\n",
    "train_ids = [i for i in range(train_labels.shape[0]) if i not in val_labels]\n",
    "revised_train_images = train_images[train_ids, :, :]  \n",
    "revised_train_labels = train_labels[train_ids]  \n",
    " \n",
    "X_train = revised_train_images.reshape(revised_train_images.shape[0], -1)\n",
    "Y_train = revised_train_labels.reshape(-1)\n",
    "X_val = val_images.reshape(val_images.shape[0], -1)\n",
    "Y_val = val_labels.reshape(-1)\n",
    "X_test = test_images.reshape(test_images.shape[0], -1)\n",
    "Y_test = test_labels.reshape(-1)\n",
    "\n",
    "print('After reshape\\n')\n",
    "print('Train data (X) size: {}, and labels (Y) size: {}' .format(X_train.shape, Y_train.shape))\n",
    "print('Val data (X) size: {}, and labels (Y) size: {}' .format(X_val.shape, Y_val.shape))\n",
    "print('Test data (X) size: {}, and labels (Y) size: {}' .format(X_test.shape, Y_test.shape))                      "
   ]
  },
  {
   "cell_type": "markdown",
   "metadata": {},
   "source": [
    "# Train a network\n",
    "To train our network we will use Stochastic Gradient Decent (SGD)."
   ]
  },
  {
   "cell_type": "code",
   "execution_count": 14,
   "metadata": {},
   "outputs": [
    {
     "name": "stdout",
     "output_type": "stream",
     "text": [
      "======================================================================\n",
      "Training epoch 1/(30)\n",
      "----------------------------------------------------------------------\n"
     ]
    },
    {
     "name": "stderr",
     "output_type": "stream",
     "text": [
      "iteration: 249 / (250), loss: 4.583514: 100%|██████████| 250/250 [00:07<00:00, 31.67it/s]\n"
     ]
    },
    {
     "name": "stdout",
     "output_type": "stream",
     "text": [
      "epoch: 1 / (30), loss: 4.587855, train acc: 2.76, val acc: 2.56\n",
      "======================================================================\n",
      "Training epoch 2/(30)\n",
      "----------------------------------------------------------------------\n"
     ]
    },
    {
     "name": "stderr",
     "output_type": "stream",
     "text": [
      "iteration: 249 / (250), loss: 4.524263: 100%|██████████| 250/250 [00:07<00:00, 33.44it/s]\n"
     ]
    },
    {
     "name": "stdout",
     "output_type": "stream",
     "text": [
      "epoch: 2 / (30), loss: 4.543894, train acc: 2.97, val acc: 3.14\n",
      "======================================================================\n",
      "Training epoch 3/(30)\n",
      "----------------------------------------------------------------------\n"
     ]
    },
    {
     "name": "stderr",
     "output_type": "stream",
     "text": [
      "iteration: 249 / (250), loss: 4.523221: 100%|██████████| 250/250 [00:07<00:00, 33.87it/s]\n"
     ]
    },
    {
     "name": "stdout",
     "output_type": "stream",
     "text": [
      "epoch: 3 / (30), loss: 4.510011, train acc: 3.90, val acc: 3.98\n",
      "======================================================================\n",
      "Training epoch 4/(30)\n",
      "----------------------------------------------------------------------\n"
     ]
    },
    {
     "name": "stderr",
     "output_type": "stream",
     "text": [
      "iteration: 249 / (250), loss: 4.505714: 100%|██████████| 250/250 [00:07<00:00, 32.98it/s]\n"
     ]
    },
    {
     "name": "stdout",
     "output_type": "stream",
     "text": [
      "epoch: 4 / (30), loss: 4.481678, train acc: 4.50, val acc: 4.58\n",
      "======================================================================\n",
      "Training epoch 5/(30)\n",
      "----------------------------------------------------------------------\n"
     ]
    },
    {
     "name": "stderr",
     "output_type": "stream",
     "text": [
      "iteration: 249 / (250), loss: 4.423130: 100%|██████████| 250/250 [00:07<00:00, 33.11it/s]\n"
     ]
    },
    {
     "name": "stdout",
     "output_type": "stream",
     "text": [
      "epoch: 5 / (30), loss: 4.455948, train acc: 4.09, val acc: 4.46\n",
      "======================================================================\n",
      "Training epoch 6/(30)\n",
      "----------------------------------------------------------------------\n"
     ]
    },
    {
     "name": "stderr",
     "output_type": "stream",
     "text": [
      "iteration: 249 / (250), loss: 4.410962: 100%|██████████| 250/250 [00:07<00:00, 32.66it/s]\n"
     ]
    },
    {
     "name": "stdout",
     "output_type": "stream",
     "text": [
      "epoch: 6 / (30), loss: 4.432945, train acc: 4.72, val acc: 4.54\n",
      "======================================================================\n",
      "Training epoch 7/(30)\n",
      "----------------------------------------------------------------------\n"
     ]
    },
    {
     "name": "stderr",
     "output_type": "stream",
     "text": [
      "iteration: 249 / (250), loss: 4.396410: 100%|██████████| 250/250 [00:07<00:00, 33.42it/s]\n"
     ]
    },
    {
     "name": "stdout",
     "output_type": "stream",
     "text": [
      "epoch: 7 / (30), loss: 4.410507, train acc: 5.03, val acc: 5.00\n",
      "======================================================================\n",
      "Training epoch 8/(30)\n",
      "----------------------------------------------------------------------\n"
     ]
    },
    {
     "name": "stderr",
     "output_type": "stream",
     "text": [
      "iteration: 249 / (250), loss: 4.436424: 100%|██████████| 250/250 [00:07<00:00, 34.71it/s]\n"
     ]
    },
    {
     "name": "stdout",
     "output_type": "stream",
     "text": [
      "epoch: 8 / (30), loss: 4.390450, train acc: 5.19, val acc: 5.10\n",
      "======================================================================\n",
      "Training epoch 9/(30)\n",
      "----------------------------------------------------------------------\n"
     ]
    },
    {
     "name": "stderr",
     "output_type": "stream",
     "text": [
      "iteration: 249 / (250), loss: 4.446200: 100%|██████████| 250/250 [00:07<00:00, 31.56it/s]\n"
     ]
    },
    {
     "name": "stdout",
     "output_type": "stream",
     "text": [
      "epoch: 9 / (30), loss: 4.371776, train acc: 5.35, val acc: 5.26\n",
      "======================================================================\n",
      "Training epoch 10/(30)\n",
      "----------------------------------------------------------------------\n"
     ]
    },
    {
     "name": "stderr",
     "output_type": "stream",
     "text": [
      "iteration: 249 / (250), loss: 4.364388: 100%|██████████| 250/250 [00:07<00:00, 33.44it/s]\n",
      "c:\\Users\\PC\\Downloads\\Sol. of Exc-1-20240813\\Sol. of Exc-1-20240813\\first_nn_sol.py:27: RuntimeWarning: overflow encountered in exp\n",
      "  return 1/(1 + np.exp(-z))\n"
     ]
    },
    {
     "name": "stdout",
     "output_type": "stream",
     "text": [
      "epoch: 10 / (30), loss: 4.353280, train acc: 5.16, val acc: 5.04\n",
      "======================================================================\n",
      "Training epoch 11/(30)\n",
      "----------------------------------------------------------------------\n"
     ]
    },
    {
     "name": "stderr",
     "output_type": "stream",
     "text": [
      "iteration: 249 / (250), loss: 4.259331: 100%|██████████| 250/250 [00:07<00:00, 34.56it/s]\n"
     ]
    },
    {
     "name": "stdout",
     "output_type": "stream",
     "text": [
      "epoch: 11 / (30), loss: 4.336846, train acc: 5.50, val acc: 5.28\n",
      "======================================================================\n",
      "Training epoch 12/(30)\n",
      "----------------------------------------------------------------------\n"
     ]
    },
    {
     "name": "stderr",
     "output_type": "stream",
     "text": [
      "iteration: 249 / (250), loss: 4.328203: 100%|██████████| 250/250 [00:07<00:00, 33.27it/s]\n"
     ]
    },
    {
     "name": "stdout",
     "output_type": "stream",
     "text": [
      "epoch: 12 / (30), loss: 4.319302, train acc: 5.59, val acc: 5.08\n",
      "======================================================================\n",
      "Training epoch 13/(30)\n",
      "----------------------------------------------------------------------\n"
     ]
    },
    {
     "name": "stderr",
     "output_type": "stream",
     "text": [
      "iteration: 249 / (250), loss: 4.276556: 100%|██████████| 250/250 [00:07<00:00, 32.22it/s]\n"
     ]
    },
    {
     "name": "stdout",
     "output_type": "stream",
     "text": [
      "epoch: 13 / (30), loss: 4.304312, train acc: 5.27, val acc: 5.32\n",
      "======================================================================\n",
      "Training epoch 14/(30)\n",
      "----------------------------------------------------------------------\n"
     ]
    },
    {
     "name": "stderr",
     "output_type": "stream",
     "text": [
      "iteration: 249 / (250), loss: 4.234471: 100%|██████████| 250/250 [00:07<00:00, 32.62it/s]\n"
     ]
    },
    {
     "name": "stdout",
     "output_type": "stream",
     "text": [
      "epoch: 14 / (30), loss: 4.290282, train acc: 5.56, val acc: 5.58\n",
      "======================================================================\n",
      "Training epoch 15/(30)\n",
      "----------------------------------------------------------------------\n"
     ]
    },
    {
     "name": "stderr",
     "output_type": "stream",
     "text": [
      "iteration: 249 / (250), loss: 4.280225: 100%|██████████| 250/250 [00:07<00:00, 33.41it/s]\n"
     ]
    },
    {
     "name": "stdout",
     "output_type": "stream",
     "text": [
      "epoch: 15 / (30), loss: 4.278153, train acc: 6.00, val acc: 5.66\n",
      "======================================================================\n",
      "Training epoch 16/(30)\n",
      "----------------------------------------------------------------------\n"
     ]
    },
    {
     "name": "stderr",
     "output_type": "stream",
     "text": [
      "iteration: 249 / (250), loss: 4.300910: 100%|██████████| 250/250 [00:07<00:00, 33.07it/s]\n"
     ]
    },
    {
     "name": "stdout",
     "output_type": "stream",
     "text": [
      "epoch: 16 / (30), loss: 4.265580, train acc: 5.92, val acc: 6.08\n",
      "======================================================================\n",
      "Training epoch 17/(30)\n",
      "----------------------------------------------------------------------\n"
     ]
    },
    {
     "name": "stderr",
     "output_type": "stream",
     "text": [
      "iteration: 249 / (250), loss: 4.262700: 100%|██████████| 250/250 [00:07<00:00, 32.73it/s]\n"
     ]
    },
    {
     "name": "stdout",
     "output_type": "stream",
     "text": [
      "epoch: 17 / (30), loss: 4.254621, train acc: 6.16, val acc: 6.16\n",
      "======================================================================\n",
      "Training epoch 18/(30)\n",
      "----------------------------------------------------------------------\n"
     ]
    },
    {
     "name": "stderr",
     "output_type": "stream",
     "text": [
      "iteration: 249 / (250), loss: 4.260675: 100%|██████████| 250/250 [00:07<00:00, 34.36it/s]\n"
     ]
    },
    {
     "name": "stdout",
     "output_type": "stream",
     "text": [
      "epoch: 18 / (30), loss: 4.242825, train acc: 6.18, val acc: 6.00\n",
      "======================================================================\n",
      "Training epoch 19/(30)\n",
      "----------------------------------------------------------------------\n"
     ]
    },
    {
     "name": "stderr",
     "output_type": "stream",
     "text": [
      "iteration: 249 / (250), loss: 4.247115: 100%|██████████| 250/250 [00:07<00:00, 34.95it/s]\n"
     ]
    },
    {
     "name": "stdout",
     "output_type": "stream",
     "text": [
      "epoch: 19 / (30), loss: 4.233141, train acc: 6.39, val acc: 6.10\n",
      "======================================================================\n",
      "Training epoch 20/(30)\n",
      "----------------------------------------------------------------------\n"
     ]
    },
    {
     "name": "stderr",
     "output_type": "stream",
     "text": [
      "iteration: 249 / (250), loss: 4.217638: 100%|██████████| 250/250 [00:07<00:00, 33.43it/s]\n"
     ]
    },
    {
     "name": "stdout",
     "output_type": "stream",
     "text": [
      "epoch: 20 / (30), loss: 4.221310, train acc: 6.65, val acc: 6.64\n",
      "======================================================================\n",
      "Training epoch 21/(30)\n",
      "----------------------------------------------------------------------\n"
     ]
    },
    {
     "name": "stderr",
     "output_type": "stream",
     "text": [
      "iteration: 249 / (250), loss: 4.197660: 100%|██████████| 250/250 [00:07<00:00, 34.53it/s]\n"
     ]
    },
    {
     "name": "stdout",
     "output_type": "stream",
     "text": [
      "epoch: 21 / (30), loss: 4.211505, train acc: 6.13, val acc: 6.32\n",
      "======================================================================\n",
      "Training epoch 22/(30)\n",
      "----------------------------------------------------------------------\n"
     ]
    },
    {
     "name": "stderr",
     "output_type": "stream",
     "text": [
      "iteration: 249 / (250), loss: 4.235070: 100%|██████████| 250/250 [00:07<00:00, 32.30it/s]\n"
     ]
    },
    {
     "name": "stdout",
     "output_type": "stream",
     "text": [
      "epoch: 22 / (30), loss: 4.203703, train acc: 6.97, val acc: 6.54\n",
      "======================================================================\n",
      "Training epoch 23/(30)\n",
      "----------------------------------------------------------------------\n"
     ]
    },
    {
     "name": "stderr",
     "output_type": "stream",
     "text": [
      "iteration: 249 / (250), loss: 4.127846: 100%|██████████| 250/250 [00:07<00:00, 35.24it/s]\n"
     ]
    },
    {
     "name": "stdout",
     "output_type": "stream",
     "text": [
      "epoch: 23 / (30), loss: 4.195271, train acc: 6.77, val acc: 6.56\n",
      "======================================================================\n",
      "Training epoch 24/(30)\n",
      "----------------------------------------------------------------------\n"
     ]
    },
    {
     "name": "stderr",
     "output_type": "stream",
     "text": [
      "iteration: 249 / (250), loss: 4.178607: 100%|██████████| 250/250 [00:07<00:00, 35.48it/s]\n"
     ]
    },
    {
     "name": "stdout",
     "output_type": "stream",
     "text": [
      "epoch: 24 / (30), loss: 4.188066, train acc: 6.93, val acc: 6.62\n",
      "======================================================================\n",
      "Training epoch 25/(30)\n",
      "----------------------------------------------------------------------\n"
     ]
    },
    {
     "name": "stderr",
     "output_type": "stream",
     "text": [
      "iteration: 249 / (250), loss: 4.100512: 100%|██████████| 250/250 [00:06<00:00, 36.15it/s]\n"
     ]
    },
    {
     "name": "stdout",
     "output_type": "stream",
     "text": [
      "epoch: 25 / (30), loss: 4.181771, train acc: 7.19, val acc: 6.92\n",
      "======================================================================\n",
      "Training epoch 26/(30)\n",
      "----------------------------------------------------------------------\n"
     ]
    },
    {
     "name": "stderr",
     "output_type": "stream",
     "text": [
      "iteration: 249 / (250), loss: 4.173311: 100%|██████████| 250/250 [00:07<00:00, 35.40it/s]\n"
     ]
    },
    {
     "name": "stdout",
     "output_type": "stream",
     "text": [
      "epoch: 26 / (30), loss: 4.176882, train acc: 6.88, val acc: 6.78\n",
      "======================================================================\n",
      "Training epoch 27/(30)\n",
      "----------------------------------------------------------------------\n"
     ]
    },
    {
     "name": "stderr",
     "output_type": "stream",
     "text": [
      "iteration: 249 / (250), loss: 4.156031: 100%|██████████| 250/250 [00:07<00:00, 34.90it/s]\n"
     ]
    },
    {
     "name": "stdout",
     "output_type": "stream",
     "text": [
      "epoch: 27 / (30), loss: 4.166311, train acc: 7.19, val acc: 7.22\n",
      "======================================================================\n",
      "Training epoch 28/(30)\n",
      "----------------------------------------------------------------------\n"
     ]
    },
    {
     "name": "stderr",
     "output_type": "stream",
     "text": [
      "iteration: 249 / (250), loss: 4.077704: 100%|██████████| 250/250 [00:07<00:00, 34.41it/s]\n"
     ]
    },
    {
     "name": "stdout",
     "output_type": "stream",
     "text": [
      "epoch: 28 / (30), loss: 4.159431, train acc: 7.11, val acc: 6.74\n",
      "======================================================================\n",
      "Training epoch 29/(30)\n",
      "----------------------------------------------------------------------\n"
     ]
    },
    {
     "name": "stderr",
     "output_type": "stream",
     "text": [
      "iteration: 249 / (250), loss: 4.186557: 100%|██████████| 250/250 [00:07<00:00, 34.48it/s]\n"
     ]
    },
    {
     "name": "stdout",
     "output_type": "stream",
     "text": [
      "epoch: 29 / (30), loss: 4.152497, train acc: 7.64, val acc: 7.50\n",
      "======================================================================\n",
      "Training epoch 30/(30)\n",
      "----------------------------------------------------------------------\n"
     ]
    },
    {
     "name": "stderr",
     "output_type": "stream",
     "text": [
      "iteration: 249 / (250), loss: 4.089488: 100%|██████████| 250/250 [00:07<00:00, 32.60it/s]\n"
     ]
    },
    {
     "name": "stdout",
     "output_type": "stream",
     "text": [
      "epoch: 30 / (30), loss: 4.146370, train acc: 7.15, val acc: 7.14\n"
     ]
    }
   ],
   "source": [
    "data_dimension = X_train.shape[1]\n",
    "num_hidden_nodes = 50\n",
    "num_classes = 100\n",
    "net = FirstNN(data_dimension, num_hidden_nodes, num_classes)\n",
    "\n",
    "# Train the network\n",
    "stats = net.train(X_train, Y_train, X_val, Y_val, \n",
    "                  num_iters=10000,\n",
    "                  num_epoch=30,\n",
    "                  batch_size=200, \n",
    "                  learning_rate=1e-2, \n",
    "                  verbose=True\n",
    "                 )"
   ]
  },
  {
   "cell_type": "code",
   "execution_count": 15,
   "metadata": {},
   "outputs": [
    {
     "name": "stdout",
     "output_type": "stream",
     "text": [
      "Train accuracy: 7.64\n",
      "Validation accuracy: 7.50\n",
      "Test accuracy: 7.34\n"
     ]
    }
   ],
   "source": [
    "# Predict on the train set\n",
    "Y_train_pred = net.predict(X_train, best_param=True)\n",
    "train_acc = 100*(Y_train_pred == Y_train).mean()\n",
    "print('Train accuracy: {:.2f}' .format(train_acc))\n",
    "\n",
    "# Predict on the validation set\n",
    "Y_val_pred = net.predict(X_val, best_param=True)\n",
    "val_acc = 100*(Y_val_pred == Y_val).mean()\n",
    "print('Validation accuracy: {:.2f}' .format(val_acc))\n",
    "\n",
    "# Predict on the test set\n",
    "Y_test_pred = net.predict(X_test, best_param=True)\n",
    "test_acc = 100*(Y_test_pred == Y_test).mean()\n",
    "print('Test accuracy: {:.2f}' .format(test_acc))"
   ]
  },
  {
   "cell_type": "markdown",
   "metadata": {},
   "source": [
    "# Plot the loss."
   ]
  },
  {
   "cell_type": "code",
   "execution_count": 16,
   "metadata": {},
   "outputs": [
    {
     "data": {
      "image/png": "[encoded data removed]",
      "text/plain": [
       "<Figure size 640x480 with 3 Axes>"
      ]
     },
     "metadata": {},
     "output_type": "display_data"
    }
   ],
   "source": [
    "# Plot the loss function and train / validation accuracies\n",
    "plt.subplot(3, 1, 1)\n",
    "plt.plot(stats['loss_history_batch'])\n",
    "plt.title('Loss history batch wise')\n",
    "plt.xlabel('Iteration')\n",
    "plt.ylabel('Loss')\n",
    "plt.grid(linestyle='--')\n",
    "\n",
    "plt.subplot(3, 1, 2)\n",
    "plt.plot(stats['loss_history_epoch'])\n",
    "plt.title('Loss history epoch wise')\n",
    "plt.xlabel('Iteration')\n",
    "plt.ylabel('Loss')\n",
    "plt.grid(linestyle='--')\n",
    "\n",
    "plt.subplot(3, 1, 3)\n",
    "plt.plot(stats['train_acc_history'], label='train')\n",
    "plt.plot(stats['val_acc_history'], label='val')\n",
    "plt.title('Classification accuracy history')\n",
    "plt.xlabel('Epoch')\n",
    "plt.ylabel('Clasification accuracy')\n",
    "plt.grid(linestyle='--')\n",
    "plt.legend()\n",
    "plt.show()"
   ]
  },
  {
   "cell_type": "markdown",
   "metadata": {},
   "source": [
    "# TODO: Tune your hyperparameters:\n",
    "    - Learning rate:\n",
    "    - Number of nodes in hidden layer:\n"
   ]
  },
  {
   "cell_type": "code",
   "execution_count": 18,
   "metadata": {},
   "outputs": [
    {
     "name": "stdout",
     "output_type": "stream",
     "text": [
      "#hdnn: 30, lr: 0.001 train accuracy: 5.00 val accuracy: 5.10\n",
      "#hdnn: 30, lr: 0.005 train accuracy: 5.58 val accuracy: 5.64\n",
      "#hdnn: 30, lr: 0.007 train accuracy: 5.18 val accuracy: 5.18\n",
      "#hdnn: 30, lr: 0.01 train accuracy: 6.02 val accuracy: 5.98\n",
      "#hdnn: 30, lr: 0.05 train accuracy: 6.31 val accuracy: 6.68\n",
      "#hdnn: 30, lr: 0.1 train accuracy: 2.88 val accuracy: 2.78\n",
      "#hdnn: 50, lr: 0.001 train accuracy: 5.50 val accuracy: 5.54\n",
      "#hdnn: 50, lr: 0.005 train accuracy: 6.52 val accuracy: 6.44\n",
      "#hdnn: 50, lr: 0.007 train accuracy: 6.53 val accuracy: 6.58\n",
      "#hdnn: 50, lr: 0.01 train accuracy: 7.20 val accuracy: 7.50\n",
      "#hdnn: 50, lr: 0.05 train accuracy: 6.64 val accuracy: 6.72\n",
      "#hdnn: 50, lr: 0.1 train accuracy: 5.46 val accuracy: 5.82\n",
      "#hdnn: 60, lr: 0.001 train accuracy: 5.35 val accuracy: 5.48\n",
      "#hdnn: 60, lr: 0.005 train accuracy: 6.48 val accuracy: 6.54\n",
      "#hdnn: 60, lr: 0.007 train accuracy: 7.24 val accuracy: 7.28\n",
      "#hdnn: 60, lr: 0.01 train accuracy: 7.43 val accuracy: 7.72\n",
      "#hdnn: 60, lr: 0.05 train accuracy: 6.99 val accuracy: 6.90\n",
      "#hdnn: 60, lr: 0.1 train accuracy: 5.24 val accuracy: 5.58\n",
      "#hdnn: 70, lr: 0.001 train accuracy: 5.32 val accuracy: 5.30\n",
      "#hdnn: 70, lr: 0.005 train accuracy: 7.00 val accuracy: 6.92\n",
      "#hdnn: 70, lr: 0.007 train accuracy: 7.28 val accuracy: 7.16\n",
      "#hdnn: 70, lr: 0.01 train accuracy: 7.86 val accuracy: 7.74\n",
      "#hdnn: 70, lr: 0.05 train accuracy: 7.55 val accuracy: 7.42\n",
      "#hdnn: 70, lr: 0.1 train accuracy: 5.54 val accuracy: 5.94\n",
      "#hdnn: 100, lr: 0.001 train accuracy: 5.78 val accuracy: 5.94\n",
      "#hdnn: 100, lr: 0.005 train accuracy: 8.00 val accuracy: 7.78\n",
      "#hdnn: 100, lr: 0.007 train accuracy: 9.03 val accuracy: 8.74\n",
      "#hdnn: 100, lr: 0.01 train accuracy: 9.49 val accuracy: 9.12\n",
      "#hdnn: 100, lr: 0.05 train accuracy: 7.80 val accuracy: 7.72\n",
      "#hdnn: 100, lr: 0.1 train accuracy: 5.82 val accuracy: 6.40\n",
      "Best validation accuracy achieved during cross-validation: 9.12 for #hdnn: 100, lr: 0.01\n"
     ]
    }
   ],
   "source": [
    "best_net = None # store the best model into this \n",
    "\n",
    "#################################################################################\n",
    "# TODO: Tune hyperparameters using the validation set. Store your best trained  #\n",
    "# model in best_net.                                                            #\n",
    "#################################################################################\n",
    "results = {}\n",
    "best_val = 0\n",
    "best_net = None\n",
    "learning_rates = [1e-3, 5e-3, 7e-3, 1e-2, 5e-2, 1e-1]\n",
    "num_hidden_nodes = [30, 50, 60, 70, 100]\n",
    "num_classes = 100\n",
    "num_iters = 5000\n",
    "num_epoch = 30\n",
    "batch_size = 256\n",
    "data_dimension = X_train.shape[1]\n",
    "\n",
    "for nhn in num_hidden_nodes:\n",
    "    for lr in learning_rates:\n",
    "        \n",
    "        net = FirstNN(data_dimension, nhn, num_classes)\n",
    "\n",
    "        # Train the network\n",
    "        stats = net.train(X_train, Y_train, X_val, Y_val, \n",
    "                          num_iters=num_iters,\n",
    "                          num_epoch=num_epoch,\n",
    "                          batch_size=batch_size, \n",
    "                          learning_rate=lr, \n",
    "                          verbose=False\n",
    "                         )\n",
    "            \n",
    "        # Predict on the train set\n",
    "        Y_train_pred = net.predict(X_train, best_param=True)\n",
    "        train_acc = 100*(Y_train_pred == Y_train).mean()\n",
    "\n",
    "        # Predict on the validation set\n",
    "        Y_val_pred = net.predict(X_val, best_param=True)\n",
    "        val_acc = 100*(Y_val_pred == Y_val).mean()\n",
    "\n",
    "        results[(nhn, lr)] = (train_acc, val_acc)\n",
    "        print('#hdnn: {}, lr: {} train accuracy: {:.2f} val accuracy: {:.2f}' .format(nhn, lr, train_acc, val_acc))\n",
    "        if best_val < val_acc:\n",
    "            best_val = val_acc\n",
    "            best_net = copy.deepcopy(net)\n",
    "\n",
    "# Print best results.\n",
    "print('Best validation accuracy achieved during cross-validation: {:.2f} for #hdnn: {}, lr: {}' .format(best_val, best_net.best_params['W1'].shape[1], best_net.learning_rate))\n",
    "#################################################################################\n",
    "#                               END OF YOUR CODE                                #\n",
    "#################################################################################"
   ]
  },
  {
   "cell_type": "markdown",
   "metadata": {},
   "source": [
    "# Test on best model"
   ]
  },
  {
   "cell_type": "code",
   "execution_count": 19,
   "metadata": {},
   "outputs": [
    {
     "name": "stdout",
     "output_type": "stream",
     "text": [
      "Train accuracy: 9.49\n",
      "Validation accuracy: 9.12\n",
      "Test accuracy: 9.16\n"
     ]
    }
   ],
   "source": [
    "# Predict on the train set\n",
    "Y_train_pred = best_net.predict(X_train, best_param=True)\n",
    "train_acc = 100*(Y_train_pred == Y_train).mean()\n",
    "print('Train accuracy: {:.2f}' .format(train_acc))\n",
    "\n",
    "# Predict on the validation set\n",
    "Y_val_pred = best_net.predict(X_val, best_param=True)\n",
    "val_acc = 100*(Y_val_pred == Y_val).mean()\n",
    "print('Validation accuracy: {:.2f}' .format(val_acc))\n",
    "\n",
    "# Predict on the test set\n",
    "Y_test_pred = best_net.predict(X_test, best_param=True)\n",
    "test_acc = 100*(Y_test_pred == Y_test).mean()\n",
    "print('Test accuracy: {:.2f}' .format(test_acc))"
   ]
  },
  {
   "cell_type": "code",
   "execution_count": 20,
   "metadata": {},
   "outputs": [
    {
     "name": "stdout",
     "output_type": "stream",
     "text": [
      "======================================================================\n",
      "Training epoch 1/(30)\n",
      "----------------------------------------------------------------------\n"
     ]
    },
    {
     "name": "stderr",
     "output_type": "stream",
     "text": [
      "iteration: 249 / (250), loss: 4.532324: 100%|██████████| 250/250 [00:08<00:00, 28.84it/s]\n"
     ]
    },
    {
     "name": "stdout",
     "output_type": "stream",
     "text": [
      "epoch: 1 / (30), loss: 4.573351, train acc: 2.82, val acc: 2.66\n",
      "======================================================================\n",
      "Training epoch 2/(30)\n",
      "----------------------------------------------------------------------\n"
     ]
    },
    {
     "name": "stderr",
     "output_type": "stream",
     "text": [
      "iteration: 249 / (250), loss: 4.461945: 100%|██████████| 250/250 [00:08<00:00, 29.64it/s]\n"
     ]
    },
    {
     "name": "stdout",
     "output_type": "stream",
     "text": [
      "epoch: 2 / (30), loss: 4.498620, train acc: 3.56, val acc: 3.52\n",
      "======================================================================\n",
      "Training epoch 3/(30)\n",
      "----------------------------------------------------------------------\n"
     ]
    },
    {
     "name": "stderr",
     "output_type": "stream",
     "text": [
      "iteration: 249 / (250), loss: 4.389359: 100%|██████████| 250/250 [00:08<00:00, 29.77it/s]\n"
     ]
    },
    {
     "name": "stdout",
     "output_type": "stream",
     "text": [
      "epoch: 3 / (30), loss: 4.441989, train acc: 4.56, val acc: 4.80\n",
      "======================================================================\n",
      "Training epoch 4/(30)\n",
      "----------------------------------------------------------------------\n"
     ]
    },
    {
     "name": "stderr",
     "output_type": "stream",
     "text": [
      "iteration: 249 / (250), loss: 4.364389: 100%|██████████| 250/250 [00:08<00:00, 29.61it/s]\n"
     ]
    },
    {
     "name": "stdout",
     "output_type": "stream",
     "text": [
      "epoch: 4 / (30), loss: 4.396647, train acc: 5.24, val acc: 5.36\n",
      "======================================================================\n",
      "Training epoch 5/(30)\n",
      "----------------------------------------------------------------------\n"
     ]
    },
    {
     "name": "stderr",
     "output_type": "stream",
     "text": [
      "iteration: 249 / (250), loss: 4.387562: 100%|██████████| 250/250 [00:08<00:00, 29.80it/s]\n"
     ]
    },
    {
     "name": "stdout",
     "output_type": "stream",
     "text": [
      "epoch: 5 / (30), loss: 4.357190, train acc: 5.73, val acc: 5.36\n",
      "======================================================================\n",
      "Training epoch 6/(30)\n",
      "----------------------------------------------------------------------\n"
     ]
    },
    {
     "name": "stderr",
     "output_type": "stream",
     "text": [
      "iteration: 249 / (250), loss: 4.244732: 100%|██████████| 250/250 [00:08<00:00, 29.27it/s]\n"
     ]
    },
    {
     "name": "stdout",
     "output_type": "stream",
     "text": [
      "epoch: 6 / (30), loss: 4.323459, train acc: 5.83, val acc: 5.48\n",
      "======================================================================\n",
      "Training epoch 7/(30)\n",
      "----------------------------------------------------------------------\n"
     ]
    },
    {
     "name": "stderr",
     "output_type": "stream",
     "text": [
      "iteration: 249 / (250), loss: 4.285818: 100%|██████████| 250/250 [00:08<00:00, 29.08it/s]\n"
     ]
    },
    {
     "name": "stdout",
     "output_type": "stream",
     "text": [
      "epoch: 7 / (30), loss: 4.291404, train acc: 5.80, val acc: 6.02\n",
      "======================================================================\n",
      "Training epoch 8/(30)\n",
      "----------------------------------------------------------------------\n"
     ]
    },
    {
     "name": "stderr",
     "output_type": "stream",
     "text": [
      "iteration: 249 / (250), loss: 4.254704: 100%|██████████| 250/250 [00:08<00:00, 29.09it/s]\n"
     ]
    },
    {
     "name": "stdout",
     "output_type": "stream",
     "text": [
      "epoch: 8 / (30), loss: 4.264897, train acc: 6.17, val acc: 6.06\n",
      "======================================================================\n",
      "Training epoch 9/(30)\n",
      "----------------------------------------------------------------------\n"
     ]
    },
    {
     "name": "stderr",
     "output_type": "stream",
     "text": [
      "iteration: 249 / (250), loss: 4.306638: 100%|██████████| 250/250 [00:08<00:00, 29.36it/s]\n"
     ]
    },
    {
     "name": "stdout",
     "output_type": "stream",
     "text": [
      "epoch: 9 / (30), loss: 4.240669, train acc: 6.04, val acc: 6.04\n",
      "======================================================================\n",
      "Training epoch 10/(30)\n",
      "----------------------------------------------------------------------\n"
     ]
    },
    {
     "name": "stderr",
     "output_type": "stream",
     "text": [
      "iteration: 249 / (250), loss: 4.189914: 100%|██████████| 250/250 [00:08<00:00, 29.20it/s]\n"
     ]
    },
    {
     "name": "stdout",
     "output_type": "stream",
     "text": [
      "epoch: 10 / (30), loss: 4.220607, train acc: 6.12, val acc: 6.10\n",
      "======================================================================\n",
      "Training epoch 11/(30)\n",
      "----------------------------------------------------------------------\n"
     ]
    },
    {
     "name": "stderr",
     "output_type": "stream",
     "text": [
      "iteration: 249 / (250), loss: 4.308016: 100%|██████████| 250/250 [00:08<00:00, 29.90it/s]\n"
     ]
    },
    {
     "name": "stdout",
     "output_type": "stream",
     "text": [
      "epoch: 11 / (30), loss: 4.200683, train acc: 6.88, val acc: 6.92\n",
      "======================================================================\n",
      "Training epoch 12/(30)\n",
      "----------------------------------------------------------------------\n"
     ]
    },
    {
     "name": "stderr",
     "output_type": "stream",
     "text": [
      "iteration: 249 / (250), loss: 4.159703: 100%|██████████| 250/250 [00:08<00:00, 29.27it/s]\n"
     ]
    },
    {
     "name": "stdout",
     "output_type": "stream",
     "text": [
      "epoch: 12 / (30), loss: 4.184046, train acc: 7.03, val acc: 7.00\n",
      "======================================================================\n",
      "Training epoch 13/(30)\n",
      "----------------------------------------------------------------------\n"
     ]
    },
    {
     "name": "stderr",
     "output_type": "stream",
     "text": [
      "iteration: 249 / (250), loss: 4.106971: 100%|██████████| 250/250 [00:08<00:00, 28.84it/s]\n"
     ]
    },
    {
     "name": "stdout",
     "output_type": "stream",
     "text": [
      "epoch: 13 / (30), loss: 4.166280, train acc: 7.23, val acc: 6.98\n",
      "======================================================================\n",
      "Training epoch 14/(30)\n",
      "----------------------------------------------------------------------\n"
     ]
    },
    {
     "name": "stderr",
     "output_type": "stream",
     "text": [
      "iteration: 249 / (250), loss: 4.182565: 100%|██████████| 250/250 [00:08<00:00, 29.32it/s]\n"
     ]
    },
    {
     "name": "stdout",
     "output_type": "stream",
     "text": [
      "epoch: 14 / (30), loss: 4.152994, train acc: 7.36, val acc: 7.20\n",
      "======================================================================\n",
      "Training epoch 15/(30)\n",
      "----------------------------------------------------------------------\n"
     ]
    },
    {
     "name": "stderr",
     "output_type": "stream",
     "text": [
      "iteration: 249 / (250), loss: 4.069552: 100%|██████████| 250/250 [00:08<00:00, 29.11it/s]\n"
     ]
    },
    {
     "name": "stdout",
     "output_type": "stream",
     "text": [
      "epoch: 15 / (30), loss: 4.140051, train acc: 7.18, val acc: 7.32\n",
      "======================================================================\n",
      "Training epoch 16/(30)\n",
      "----------------------------------------------------------------------\n"
     ]
    },
    {
     "name": "stderr",
     "output_type": "stream",
     "text": [
      "iteration: 249 / (250), loss: 4.151723: 100%|██████████| 250/250 [00:08<00:00, 29.62it/s]\n"
     ]
    },
    {
     "name": "stdout",
     "output_type": "stream",
     "text": [
      "epoch: 16 / (30), loss: 4.125411, train acc: 7.54, val acc: 7.34\n",
      "======================================================================\n",
      "Training epoch 17/(30)\n",
      "----------------------------------------------------------------------\n"
     ]
    },
    {
     "name": "stderr",
     "output_type": "stream",
     "text": [
      "iteration: 249 / (250), loss: 4.078917: 100%|██████████| 250/250 [00:08<00:00, 29.21it/s]\n"
     ]
    },
    {
     "name": "stdout",
     "output_type": "stream",
     "text": [
      "epoch: 17 / (30), loss: 4.113229, train acc: 7.96, val acc: 7.80\n",
      "======================================================================\n",
      "Training epoch 18/(30)\n",
      "----------------------------------------------------------------------\n"
     ]
    },
    {
     "name": "stderr",
     "output_type": "stream",
     "text": [
      "iteration: 249 / (250), loss: 4.229821: 100%|██████████| 250/250 [00:08<00:00, 29.44it/s]\n"
     ]
    },
    {
     "name": "stdout",
     "output_type": "stream",
     "text": [
      "epoch: 18 / (30), loss: 4.106082, train acc: 8.18, val acc: 8.36\n",
      "======================================================================\n",
      "Training epoch 19/(30)\n",
      "----------------------------------------------------------------------\n"
     ]
    },
    {
     "name": "stderr",
     "output_type": "stream",
     "text": [
      "iteration: 249 / (250), loss: 4.050487: 100%|██████████| 250/250 [00:08<00:00, 29.46it/s]\n"
     ]
    },
    {
     "name": "stdout",
     "output_type": "stream",
     "text": [
      "epoch: 19 / (30), loss: 4.092830, train acc: 8.33, val acc: 8.44\n",
      "======================================================================\n",
      "Training epoch 20/(30)\n",
      "----------------------------------------------------------------------\n"
     ]
    },
    {
     "name": "stderr",
     "output_type": "stream",
     "text": [
      "iteration: 249 / (250), loss: 4.143273: 100%|██████████| 250/250 [00:08<00:00, 29.92it/s]\n"
     ]
    },
    {
     "name": "stdout",
     "output_type": "stream",
     "text": [
      "epoch: 20 / (30), loss: 4.084918, train acc: 8.23, val acc: 7.86\n",
      "======================================================================\n",
      "Training epoch 21/(30)\n",
      "----------------------------------------------------------------------\n"
     ]
    },
    {
     "name": "stderr",
     "output_type": "stream",
     "text": [
      "iteration: 249 / (250), loss: 4.147724: 100%|██████████| 250/250 [00:08<00:00, 29.92it/s]\n"
     ]
    },
    {
     "name": "stdout",
     "output_type": "stream",
     "text": [
      "epoch: 21 / (30), loss: 4.073168, train acc: 8.28, val acc: 8.12\n",
      "======================================================================\n",
      "Training epoch 22/(30)\n",
      "----------------------------------------------------------------------\n"
     ]
    },
    {
     "name": "stderr",
     "output_type": "stream",
     "text": [
      "iteration: 249 / (250), loss: 4.146675: 100%|██████████| 250/250 [00:08<00:00, 29.71it/s]\n"
     ]
    },
    {
     "name": "stdout",
     "output_type": "stream",
     "text": [
      "epoch: 22 / (30), loss: 4.065491, train acc: 8.56, val acc: 8.38\n",
      "======================================================================\n",
      "Training epoch 23/(30)\n",
      "----------------------------------------------------------------------\n"
     ]
    },
    {
     "name": "stderr",
     "output_type": "stream",
     "text": [
      "iteration: 249 / (250), loss: 4.196912: 100%|██████████| 250/250 [00:08<00:00, 29.69it/s]\n"
     ]
    },
    {
     "name": "stdout",
     "output_type": "stream",
     "text": [
      "epoch: 23 / (30), loss: 4.053351, train acc: 9.21, val acc: 9.42\n",
      "======================================================================\n",
      "Training epoch 24/(30)\n",
      "----------------------------------------------------------------------\n"
     ]
    },
    {
     "name": "stderr",
     "output_type": "stream",
     "text": [
      "iteration: 249 / (250), loss: 4.010088: 100%|██████████| 250/250 [00:08<00:00, 27.96it/s]\n"
     ]
    },
    {
     "name": "stdout",
     "output_type": "stream",
     "text": [
      "epoch: 24 / (30), loss: 4.043769, train acc: 9.04, val acc: 9.00\n",
      "======================================================================\n",
      "Training epoch 25/(30)\n",
      "----------------------------------------------------------------------\n"
     ]
    },
    {
     "name": "stderr",
     "output_type": "stream",
     "text": [
      "iteration: 249 / (250), loss: 4.082544: 100%|██████████| 250/250 [00:08<00:00, 28.50it/s]\n"
     ]
    },
    {
     "name": "stdout",
     "output_type": "stream",
     "text": [
      "epoch: 25 / (30), loss: 4.035038, train acc: 9.68, val acc: 9.46\n",
      "======================================================================\n",
      "Training epoch 26/(30)\n",
      "----------------------------------------------------------------------\n"
     ]
    },
    {
     "name": "stderr",
     "output_type": "stream",
     "text": [
      "iteration: 249 / (250), loss: 4.002199: 100%|██████████| 250/250 [00:08<00:00, 29.48it/s]\n"
     ]
    },
    {
     "name": "stdout",
     "output_type": "stream",
     "text": [
      "epoch: 26 / (30), loss: 4.028548, train acc: 9.38, val acc: 9.10\n",
      "======================================================================\n",
      "Training epoch 27/(30)\n",
      "----------------------------------------------------------------------\n"
     ]
    },
    {
     "name": "stderr",
     "output_type": "stream",
     "text": [
      "iteration: 249 / (250), loss: 3.915878: 100%|██████████| 250/250 [00:08<00:00, 29.46it/s]\n"
     ]
    },
    {
     "name": "stdout",
     "output_type": "stream",
     "text": [
      "epoch: 27 / (30), loss: 4.018280, train acc: 9.77, val acc: 9.58\n",
      "======================================================================\n",
      "Training epoch 28/(30)\n",
      "----------------------------------------------------------------------\n"
     ]
    },
    {
     "name": "stderr",
     "output_type": "stream",
     "text": [
      "iteration: 249 / (250), loss: 4.014186: 100%|██████████| 250/250 [00:08<00:00, 29.27it/s]\n"
     ]
    },
    {
     "name": "stdout",
     "output_type": "stream",
     "text": [
      "epoch: 28 / (30), loss: 4.010598, train acc: 9.58, val acc: 9.60\n",
      "======================================================================\n",
      "Training epoch 29/(30)\n",
      "----------------------------------------------------------------------\n"
     ]
    },
    {
     "name": "stderr",
     "output_type": "stream",
     "text": [
      "iteration: 249 / (250), loss: 4.033602: 100%|██████████| 250/250 [00:08<00:00, 28.97it/s]\n"
     ]
    },
    {
     "name": "stdout",
     "output_type": "stream",
     "text": [
      "epoch: 29 / (30), loss: 4.005024, train acc: 9.77, val acc: 9.52\n",
      "======================================================================\n",
      "Training epoch 30/(30)\n",
      "----------------------------------------------------------------------\n"
     ]
    },
    {
     "name": "stderr",
     "output_type": "stream",
     "text": [
      "iteration: 249 / (250), loss: 4.017429: 100%|██████████| 250/250 [00:08<00:00, 28.43it/s]\n"
     ]
    },
    {
     "name": "stdout",
     "output_type": "stream",
     "text": [
      "epoch: 30 / (30), loss: 3.999012, train acc: 10.00, val acc: 9.96\n"
     ]
    }
   ],
   "source": [
    "update_rule = 'gd'\n",
    "data_dimension = X_train.shape[1]\n",
    "num_hidden_nodes = 100\n",
    "num_classes = 100\n",
    "net = FirstNN(data_dimension, num_hidden_nodes, num_classes)\n",
    "learning_rate=0.01\n",
    "num_epoch=30\n",
    "batch_size=200\n",
    "param_init='small_std'  #small_std , #Xavier , #nnid\n",
    "# Train the network\n",
    "stats = net.train(X_train, Y_train, X_val, Y_val, \n",
    "                  num_iters=10000,\n",
    "                  num_epoch=30,\n",
    "                  batch_size=200, \n",
    "                  learning_rate=1e-2, \n",
    "                  verbose=True\n",
    "                 )"
   ]
  },
  {
   "cell_type": "code",
   "execution_count": 21,
   "metadata": {},
   "outputs": [
    {
     "name": "stdout",
     "output_type": "stream",
     "text": [
      "Train accuracy: 10.00\n",
      "Validation accuracy: 9.96\n",
      "Test accuracy: 10.05\n"
     ]
    }
   ],
   "source": [
    "# Predict on the train set\n",
    "Y_train_pred = net.predict(X_train, best_param=True)\n",
    "train_acc = 100*(Y_train_pred == Y_train).mean()\n",
    "print('Train accuracy: {:.2f}' .format(train_acc))\n",
    "\n",
    "# Predict on the validation set\n",
    "Y_val_pred = net.predict(X_val, best_param=True)\n",
    "val_acc = 100*(Y_val_pred == Y_val).mean()\n",
    "print('Validation accuracy: {:.2f}' .format(val_acc))\n",
    "\n",
    "# Predict on the test set\n",
    "Y_test_pred = net.predict(X_test, best_param=True)\n",
    "test_acc = 100*(Y_test_pred == Y_test).mean()\n",
    "print('Test accuracy: {:.2f}' .format(test_acc))"
   ]
  },
  {
   "cell_type": "code",
   "execution_count": 22,
   "metadata": {},
   "outputs": [
    {
     "name": "stdout",
     "output_type": "stream",
     "text": [
      "======================================================================\n",
      "Training epoch 1/(30)\n",
      "----------------------------------------------------------------------\n"
     ]
    },
    {
     "name": "stderr",
     "output_type": "stream",
     "text": [
      "iteration: 249 / (250), loss: 4.535579: 100%|██████████| 250/250 [00:08<00:00, 28.52it/s]\n"
     ]
    },
    {
     "name": "stdout",
     "output_type": "stream",
     "text": [
      "epoch: 1 / (30), loss: 4.571469, train acc: 2.90, val acc: 3.00\n",
      "======================================================================\n",
      "Training epoch 2/(30)\n",
      "----------------------------------------------------------------------\n"
     ]
    },
    {
     "name": "stderr",
     "output_type": "stream",
     "text": [
      "iteration: 249 / (250), loss: 4.457104: 100%|██████████| 250/250 [00:08<00:00, 29.26it/s]\n"
     ]
    },
    {
     "name": "stdout",
     "output_type": "stream",
     "text": [
      "epoch: 2 / (30), loss: 4.487215, train acc: 4.06, val acc: 4.14\n",
      "======================================================================\n",
      "Training epoch 3/(30)\n",
      "----------------------------------------------------------------------\n"
     ]
    },
    {
     "name": "stderr",
     "output_type": "stream",
     "text": [
      "iteration: 249 / (250), loss: 4.355939: 100%|██████████| 250/250 [00:08<00:00, 29.12it/s]\n"
     ]
    },
    {
     "name": "stdout",
     "output_type": "stream",
     "text": [
      "epoch: 3 / (30), loss: 4.423726, train acc: 4.60, val acc: 4.56\n",
      "======================================================================\n",
      "Training epoch 4/(30)\n",
      "----------------------------------------------------------------------\n"
     ]
    },
    {
     "name": "stderr",
     "output_type": "stream",
     "text": [
      "iteration: 249 / (250), loss: 4.382027: 100%|██████████| 250/250 [00:08<00:00, 29.60it/s]\n"
     ]
    },
    {
     "name": "stdout",
     "output_type": "stream",
     "text": [
      "epoch: 4 / (30), loss: 4.374805, train acc: 4.83, val acc: 4.72\n",
      "======================================================================\n",
      "Training epoch 5/(30)\n",
      "----------------------------------------------------------------------\n"
     ]
    },
    {
     "name": "stderr",
     "output_type": "stream",
     "text": [
      "iteration: 249 / (250), loss: 4.329928: 100%|██████████| 250/250 [00:08<00:00, 28.55it/s]\n"
     ]
    },
    {
     "name": "stdout",
     "output_type": "stream",
     "text": [
      "epoch: 5 / (30), loss: 4.333625, train acc: 5.55, val acc: 5.26\n",
      "======================================================================\n",
      "Training epoch 6/(30)\n",
      "----------------------------------------------------------------------\n"
     ]
    },
    {
     "name": "stderr",
     "output_type": "stream",
     "text": [
      "iteration: 249 / (250), loss: 4.293633: 100%|██████████| 250/250 [00:08<00:00, 29.81it/s]\n"
     ]
    },
    {
     "name": "stdout",
     "output_type": "stream",
     "text": [
      "epoch: 6 / (30), loss: 4.300655, train acc: 6.00, val acc: 5.56\n",
      "======================================================================\n",
      "Training epoch 7/(30)\n",
      "----------------------------------------------------------------------\n"
     ]
    },
    {
     "name": "stderr",
     "output_type": "stream",
     "text": [
      "iteration: 249 / (250), loss: 4.279357: 100%|██████████| 250/250 [00:08<00:00, 29.68it/s]\n"
     ]
    },
    {
     "name": "stdout",
     "output_type": "stream",
     "text": [
      "epoch: 7 / (30), loss: 4.272892, train acc: 6.00, val acc: 5.90\n",
      "======================================================================\n",
      "Training epoch 8/(30)\n",
      "----------------------------------------------------------------------\n"
     ]
    },
    {
     "name": "stderr",
     "output_type": "stream",
     "text": [
      "iteration: 249 / (250), loss: 4.234779: 100%|██████████| 250/250 [00:08<00:00, 29.32it/s]\n"
     ]
    },
    {
     "name": "stdout",
     "output_type": "stream",
     "text": [
      "epoch: 8 / (30), loss: 4.247500, train acc: 6.19, val acc: 5.92\n",
      "======================================================================\n",
      "Training epoch 9/(30)\n",
      "----------------------------------------------------------------------\n"
     ]
    },
    {
     "name": "stderr",
     "output_type": "stream",
     "text": [
      "iteration: 249 / (250), loss: 4.149176: 100%|██████████| 250/250 [00:08<00:00, 29.64it/s]\n"
     ]
    },
    {
     "name": "stdout",
     "output_type": "stream",
     "text": [
      "epoch: 9 / (30), loss: 4.226468, train acc: 6.43, val acc: 6.28\n",
      "======================================================================\n",
      "Training epoch 10/(30)\n",
      "----------------------------------------------------------------------\n"
     ]
    },
    {
     "name": "stderr",
     "output_type": "stream",
     "text": [
      "iteration: 249 / (250), loss: 4.212600: 100%|██████████| 250/250 [00:08<00:00, 28.13it/s]\n"
     ]
    },
    {
     "name": "stdout",
     "output_type": "stream",
     "text": [
      "epoch: 10 / (30), loss: 4.206499, train acc: 6.59, val acc: 6.28\n",
      "======================================================================\n",
      "Training epoch 11/(30)\n",
      "----------------------------------------------------------------------\n"
     ]
    },
    {
     "name": "stderr",
     "output_type": "stream",
     "text": [
      "iteration: 249 / (250), loss: 4.210010: 100%|██████████| 250/250 [00:08<00:00, 29.89it/s]\n"
     ]
    },
    {
     "name": "stdout",
     "output_type": "stream",
     "text": [
      "epoch: 11 / (30), loss: 4.186789, train acc: 6.74, val acc: 6.24\n",
      "======================================================================\n",
      "Training epoch 12/(30)\n",
      "----------------------------------------------------------------------\n"
     ]
    },
    {
     "name": "stderr",
     "output_type": "stream",
     "text": [
      "iteration: 249 / (250), loss: 4.175773: 100%|██████████| 250/250 [00:08<00:00, 28.81it/s]\n"
     ]
    },
    {
     "name": "stdout",
     "output_type": "stream",
     "text": [
      "epoch: 12 / (30), loss: 4.172898, train acc: 6.89, val acc: 6.60\n",
      "======================================================================\n",
      "Training epoch 13/(30)\n",
      "----------------------------------------------------------------------\n"
     ]
    },
    {
     "name": "stderr",
     "output_type": "stream",
     "text": [
      "iteration: 249 / (250), loss: 4.177738: 100%|██████████| 250/250 [00:08<00:00, 29.37it/s]\n"
     ]
    },
    {
     "name": "stdout",
     "output_type": "stream",
     "text": [
      "epoch: 13 / (30), loss: 4.158370, train acc: 6.79, val acc: 6.68\n",
      "======================================================================\n",
      "Training epoch 14/(30)\n",
      "----------------------------------------------------------------------\n"
     ]
    },
    {
     "name": "stderr",
     "output_type": "stream",
     "text": [
      "iteration: 249 / (250), loss: 4.080732: 100%|██████████| 250/250 [00:08<00:00, 29.54it/s]\n"
     ]
    },
    {
     "name": "stdout",
     "output_type": "stream",
     "text": [
      "epoch: 14 / (30), loss: 4.144686, train acc: 7.44, val acc: 7.30\n",
      "======================================================================\n",
      "Training epoch 15/(30)\n",
      "----------------------------------------------------------------------\n"
     ]
    },
    {
     "name": "stderr",
     "output_type": "stream",
     "text": [
      "iteration: 249 / (250), loss: 4.225719: 100%|██████████| 250/250 [00:08<00:00, 28.73it/s]\n"
     ]
    },
    {
     "name": "stdout",
     "output_type": "stream",
     "text": [
      "epoch: 15 / (30), loss: 4.132040, train acc: 7.52, val acc: 6.88\n",
      "======================================================================\n",
      "Training epoch 16/(30)\n",
      "----------------------------------------------------------------------\n"
     ]
    },
    {
     "name": "stderr",
     "output_type": "stream",
     "text": [
      "iteration: 249 / (250), loss: 4.075182: 100%|██████████| 250/250 [00:08<00:00, 29.68it/s]\n"
     ]
    },
    {
     "name": "stdout",
     "output_type": "stream",
     "text": [
      "epoch: 16 / (30), loss: 4.120638, train acc: 7.75, val acc: 7.26\n",
      "======================================================================\n",
      "Training epoch 17/(30)\n",
      "----------------------------------------------------------------------\n"
     ]
    },
    {
     "name": "stderr",
     "output_type": "stream",
     "text": [
      "iteration: 249 / (250), loss: 4.161319: 100%|██████████| 250/250 [00:08<00:00, 29.56it/s]\n"
     ]
    },
    {
     "name": "stdout",
     "output_type": "stream",
     "text": [
      "epoch: 17 / (30), loss: 4.112753, train acc: 7.56, val acc: 7.08\n",
      "======================================================================\n",
      "Training epoch 18/(30)\n",
      "----------------------------------------------------------------------\n"
     ]
    },
    {
     "name": "stderr",
     "output_type": "stream",
     "text": [
      "iteration: 249 / (250), loss: 4.173326: 100%|██████████| 250/250 [00:08<00:00, 29.67it/s]\n"
     ]
    },
    {
     "name": "stdout",
     "output_type": "stream",
     "text": [
      "epoch: 18 / (30), loss: 4.099115, train acc: 8.13, val acc: 8.04\n",
      "======================================================================\n",
      "Training epoch 19/(30)\n",
      "----------------------------------------------------------------------\n"
     ]
    },
    {
     "name": "stderr",
     "output_type": "stream",
     "text": [
      "iteration: 249 / (250), loss: 4.142855: 100%|██████████| 250/250 [00:08<00:00, 29.34it/s]\n"
     ]
    },
    {
     "name": "stdout",
     "output_type": "stream",
     "text": [
      "epoch: 19 / (30), loss: 4.088474, train acc: 7.84, val acc: 7.62\n",
      "======================================================================\n",
      "Training epoch 20/(30)\n",
      "----------------------------------------------------------------------\n"
     ]
    },
    {
     "name": "stderr",
     "output_type": "stream",
     "text": [
      "iteration: 249 / (250), loss: 3.959180: 100%|██████████| 250/250 [00:08<00:00, 29.37it/s]\n"
     ]
    },
    {
     "name": "stdout",
     "output_type": "stream",
     "text": [
      "epoch: 20 / (30), loss: 4.077570, train acc: 8.30, val acc: 8.10\n",
      "======================================================================\n",
      "Training epoch 21/(30)\n",
      "----------------------------------------------------------------------\n"
     ]
    },
    {
     "name": "stderr",
     "output_type": "stream",
     "text": [
      "iteration: 249 / (250), loss: 4.007589: 100%|██████████| 250/250 [00:08<00:00, 29.02it/s]\n"
     ]
    },
    {
     "name": "stdout",
     "output_type": "stream",
     "text": [
      "epoch: 21 / (30), loss: 4.073573, train acc: 8.47, val acc: 8.20\n",
      "======================================================================\n",
      "Training epoch 22/(30)\n",
      "----------------------------------------------------------------------\n"
     ]
    },
    {
     "name": "stderr",
     "output_type": "stream",
     "text": [
      "iteration: 249 / (250), loss: 4.078719: 100%|██████████| 250/250 [00:08<00:00, 29.26it/s]\n"
     ]
    },
    {
     "name": "stdout",
     "output_type": "stream",
     "text": [
      "epoch: 22 / (30), loss: 4.062022, train acc: 8.87, val acc: 8.66\n",
      "======================================================================\n",
      "Training epoch 23/(30)\n",
      "----------------------------------------------------------------------\n"
     ]
    },
    {
     "name": "stderr",
     "output_type": "stream",
     "text": [
      "iteration: 249 / (250), loss: 3.941677: 100%|██████████| 250/250 [00:08<00:00, 29.32it/s]\n"
     ]
    },
    {
     "name": "stdout",
     "output_type": "stream",
     "text": [
      "epoch: 23 / (30), loss: 4.055366, train acc: 9.01, val acc: 8.60\n",
      "======================================================================\n",
      "Training epoch 24/(30)\n",
      "----------------------------------------------------------------------\n"
     ]
    },
    {
     "name": "stderr",
     "output_type": "stream",
     "text": [
      "iteration: 249 / (250), loss: 3.958063: 100%|██████████| 250/250 [00:08<00:00, 29.48it/s]\n"
     ]
    },
    {
     "name": "stdout",
     "output_type": "stream",
     "text": [
      "epoch: 24 / (30), loss: 4.043530, train acc: 8.82, val acc: 8.44\n",
      "======================================================================\n",
      "Training epoch 25/(30)\n",
      "----------------------------------------------------------------------\n"
     ]
    },
    {
     "name": "stderr",
     "output_type": "stream",
     "text": [
      "iteration: 249 / (250), loss: 4.059367: 100%|██████████| 250/250 [00:08<00:00, 29.40it/s]\n"
     ]
    },
    {
     "name": "stdout",
     "output_type": "stream",
     "text": [
      "epoch: 25 / (30), loss: 4.039210, train acc: 9.04, val acc: 8.60\n",
      "======================================================================\n",
      "Training epoch 26/(30)\n",
      "----------------------------------------------------------------------\n"
     ]
    },
    {
     "name": "stderr",
     "output_type": "stream",
     "text": [
      "iteration: 249 / (250), loss: 4.012005: 100%|██████████| 250/250 [00:08<00:00, 29.25it/s]\n"
     ]
    },
    {
     "name": "stdout",
     "output_type": "stream",
     "text": [
      "epoch: 26 / (30), loss: 4.027919, train acc: 9.40, val acc: 9.30\n",
      "======================================================================\n",
      "Training epoch 27/(30)\n",
      "----------------------------------------------------------------------\n"
     ]
    },
    {
     "name": "stderr",
     "output_type": "stream",
     "text": [
      "iteration: 249 / (250), loss: 4.044145: 100%|██████████| 250/250 [00:08<00:00, 28.61it/s]\n"
     ]
    },
    {
     "name": "stdout",
     "output_type": "stream",
     "text": [
      "epoch: 27 / (30), loss: 4.022476, train acc: 9.56, val acc: 9.06\n",
      "======================================================================\n",
      "Training epoch 28/(30)\n",
      "----------------------------------------------------------------------\n"
     ]
    },
    {
     "name": "stderr",
     "output_type": "stream",
     "text": [
      "iteration: 249 / (250), loss: 4.107923: 100%|██████████| 250/250 [00:08<00:00, 28.85it/s]\n"
     ]
    },
    {
     "name": "stdout",
     "output_type": "stream",
     "text": [
      "epoch: 28 / (30), loss: 4.012647, train acc: 9.58, val acc: 9.48\n",
      "======================================================================\n",
      "Training epoch 29/(30)\n",
      "----------------------------------------------------------------------\n"
     ]
    },
    {
     "name": "stderr",
     "output_type": "stream",
     "text": [
      "iteration: 249 / (250), loss: 4.052603: 100%|██████████| 250/250 [00:08<00:00, 29.09it/s]\n"
     ]
    },
    {
     "name": "stdout",
     "output_type": "stream",
     "text": [
      "epoch: 29 / (30), loss: 4.005880, train acc: 9.78, val acc: 9.64\n",
      "======================================================================\n",
      "Training epoch 30/(30)\n",
      "----------------------------------------------------------------------\n"
     ]
    },
    {
     "name": "stderr",
     "output_type": "stream",
     "text": [
      "iteration: 249 / (250), loss: 4.083260: 100%|██████████| 250/250 [00:08<00:00, 29.23it/s]\n"
     ]
    },
    {
     "name": "stdout",
     "output_type": "stream",
     "text": [
      "epoch: 30 / (30), loss: 4.001598, train acc: 9.89, val acc: 9.32\n"
     ]
    }
   ],
   "source": [
    "update_rule = 'gd'\n",
    "data_dimension = X_train.shape[1]\n",
    "num_hidden_nodes = 100\n",
    "num_classes = 100\n",
    "net = FirstNN(data_dimension, num_hidden_nodes, num_classes)\n",
    "learning_rate=0.01\n",
    "num_epoch=30\n",
    "batch_size=200\n",
    "param_init='Xavier'  #small_std , #Xavier , #nnid\n",
    "# Train the network\n",
    "stats = net.train(X_train, Y_train, X_val, Y_val, \n",
    "                  num_iters=10000,\n",
    "                  num_epoch=30,\n",
    "                  batch_size=200, \n",
    "                  learning_rate=1e-2, \n",
    "                  verbose=True\n",
    "                 )"
   ]
  },
  {
   "cell_type": "code",
   "execution_count": 23,
   "metadata": {},
   "outputs": [
    {
     "name": "stdout",
     "output_type": "stream",
     "text": [
      "Train accuracy: 9.78\n",
      "Validation accuracy: 9.64\n",
      "Test accuracy: 9.55\n"
     ]
    }
   ],
   "source": [
    "# Predict on the train set\n",
    "Y_train_pred = net.predict(X_train, best_param=True)\n",
    "train_acc = 100*(Y_train_pred == Y_train).mean()\n",
    "print('Train accuracy: {:.2f}' .format(train_acc))\n",
    "\n",
    "# Predict on the validation set\n",
    "Y_val_pred = net.predict(X_val, best_param=True)\n",
    "val_acc = 100*(Y_val_pred == Y_val).mean()\n",
    "print('Validation accuracy: {:.2f}' .format(val_acc))\n",
    "\n",
    "# Predict on the test set\n",
    "Y_test_pred = net.predict(X_test, best_param=True)\n",
    "test_acc = 100*(Y_test_pred == Y_test).mean()\n",
    "print('Test accuracy: {:.2f}' .format(test_acc))"
   ]
  },
  {
   "cell_type": "code",
   "execution_count": 24,
   "metadata": {},
   "outputs": [
    {
     "name": "stdout",
     "output_type": "stream",
     "text": [
      "======================================================================\n",
      "Training epoch 1/(30)\n",
      "----------------------------------------------------------------------\n"
     ]
    },
    {
     "name": "stderr",
     "output_type": "stream",
     "text": [
      "iteration: 249 / (250), loss: 4.547825: 100%|██████████| 250/250 [00:07<00:00, 33.60it/s]\n"
     ]
    },
    {
     "name": "stdout",
     "output_type": "stream",
     "text": [
      "epoch: 1 / (30), loss: 4.576191, train acc: 3.67, val acc: 3.58\n",
      "======================================================================\n",
      "Training epoch 2/(30)\n",
      "----------------------------------------------------------------------\n"
     ]
    },
    {
     "name": "stderr",
     "output_type": "stream",
     "text": [
      "iteration: 249 / (250), loss: 4.498009: 100%|██████████| 250/250 [00:07<00:00, 34.32it/s]\n"
     ]
    },
    {
     "name": "stdout",
     "output_type": "stream",
     "text": [
      "epoch: 2 / (30), loss: 4.509174, train acc: 4.56, val acc: 4.62\n",
      "======================================================================\n",
      "Training epoch 3/(30)\n",
      "----------------------------------------------------------------------\n"
     ]
    },
    {
     "name": "stderr",
     "output_type": "stream",
     "text": [
      "iteration: 249 / (250), loss: 4.436246: 100%|██████████| 250/250 [00:07<00:00, 34.16it/s]\n"
     ]
    },
    {
     "name": "stdout",
     "output_type": "stream",
     "text": [
      "epoch: 3 / (30), loss: 4.456078, train acc: 4.83, val acc: 4.56\n",
      "======================================================================\n",
      "Training epoch 4/(30)\n",
      "----------------------------------------------------------------------\n"
     ]
    },
    {
     "name": "stderr",
     "output_type": "stream",
     "text": [
      "iteration: 249 / (250), loss: 4.341663: 100%|██████████| 250/250 [00:07<00:00, 34.00it/s]\n"
     ]
    },
    {
     "name": "stdout",
     "output_type": "stream",
     "text": [
      "epoch: 4 / (30), loss: 4.410621, train acc: 5.00, val acc: 5.04\n",
      "======================================================================\n",
      "Training epoch 5/(30)\n",
      "----------------------------------------------------------------------\n"
     ]
    },
    {
     "name": "stderr",
     "output_type": "stream",
     "text": [
      "iteration: 249 / (250), loss: 4.327309: 100%|██████████| 250/250 [00:07<00:00, 34.39it/s]\n"
     ]
    },
    {
     "name": "stdout",
     "output_type": "stream",
     "text": [
      "epoch: 5 / (30), loss: 4.370801, train acc: 5.75, val acc: 5.56\n",
      "======================================================================\n",
      "Training epoch 6/(30)\n",
      "----------------------------------------------------------------------\n"
     ]
    },
    {
     "name": "stderr",
     "output_type": "stream",
     "text": [
      "iteration: 249 / (250), loss: 4.371960: 100%|██████████| 250/250 [00:07<00:00, 34.47it/s]\n"
     ]
    },
    {
     "name": "stdout",
     "output_type": "stream",
     "text": [
      "epoch: 6 / (30), loss: 4.335381, train acc: 5.79, val acc: 5.60\n",
      "======================================================================\n",
      "Training epoch 7/(30)\n",
      "----------------------------------------------------------------------\n"
     ]
    },
    {
     "name": "stderr",
     "output_type": "stream",
     "text": [
      "iteration: 249 / (250), loss: 4.305586: 100%|██████████| 250/250 [00:07<00:00, 34.53it/s]\n"
     ]
    },
    {
     "name": "stdout",
     "output_type": "stream",
     "text": [
      "epoch: 7 / (30), loss: 4.305319, train acc: 6.11, val acc: 5.56\n",
      "======================================================================\n",
      "Training epoch 8/(30)\n",
      "----------------------------------------------------------------------\n"
     ]
    },
    {
     "name": "stderr",
     "output_type": "stream",
     "text": [
      "iteration: 249 / (250), loss: 4.245288: 100%|██████████| 250/250 [00:07<00:00, 34.44it/s]\n"
     ]
    },
    {
     "name": "stdout",
     "output_type": "stream",
     "text": [
      "epoch: 8 / (30), loss: 4.276975, train acc: 6.23, val acc: 6.18\n",
      "======================================================================\n",
      "Training epoch 9/(30)\n",
      "----------------------------------------------------------------------\n"
     ]
    },
    {
     "name": "stderr",
     "output_type": "stream",
     "text": [
      "iteration: 249 / (250), loss: 4.193480: 100%|██████████| 250/250 [00:07<00:00, 33.94it/s]\n"
     ]
    },
    {
     "name": "stdout",
     "output_type": "stream",
     "text": [
      "epoch: 9 / (30), loss: 4.253005, train acc: 6.31, val acc: 5.86\n",
      "======================================================================\n",
      "Training epoch 10/(30)\n",
      "----------------------------------------------------------------------\n"
     ]
    },
    {
     "name": "stderr",
     "output_type": "stream",
     "text": [
      "iteration: 249 / (250), loss: 4.229061: 100%|██████████| 250/250 [00:07<00:00, 34.14it/s]\n"
     ]
    },
    {
     "name": "stdout",
     "output_type": "stream",
     "text": [
      "epoch: 10 / (30), loss: 4.230256, train acc: 6.69, val acc: 6.32\n",
      "======================================================================\n",
      "Training epoch 11/(30)\n",
      "----------------------------------------------------------------------\n"
     ]
    },
    {
     "name": "stderr",
     "output_type": "stream",
     "text": [
      "iteration: 249 / (250), loss: 4.152544: 100%|██████████| 250/250 [00:07<00:00, 34.36it/s]\n"
     ]
    },
    {
     "name": "stdout",
     "output_type": "stream",
     "text": [
      "epoch: 11 / (30), loss: 4.210377, train acc: 6.68, val acc: 6.32\n",
      "======================================================================\n",
      "Training epoch 12/(30)\n",
      "----------------------------------------------------------------------\n"
     ]
    },
    {
     "name": "stderr",
     "output_type": "stream",
     "text": [
      "iteration: 249 / (250), loss: 4.164368: 100%|██████████| 250/250 [00:07<00:00, 34.01it/s]\n"
     ]
    },
    {
     "name": "stdout",
     "output_type": "stream",
     "text": [
      "epoch: 12 / (30), loss: 4.191621, train acc: 6.98, val acc: 6.60\n",
      "======================================================================\n",
      "Training epoch 13/(30)\n",
      "----------------------------------------------------------------------\n"
     ]
    },
    {
     "name": "stderr",
     "output_type": "stream",
     "text": [
      "iteration: 249 / (250), loss: 4.167392: 100%|██████████| 250/250 [00:07<00:00, 34.49it/s]\n"
     ]
    },
    {
     "name": "stdout",
     "output_type": "stream",
     "text": [
      "epoch: 13 / (30), loss: 4.173850, train acc: 7.34, val acc: 7.04\n",
      "======================================================================\n",
      "Training epoch 14/(30)\n",
      "----------------------------------------------------------------------\n"
     ]
    },
    {
     "name": "stderr",
     "output_type": "stream",
     "text": [
      "iteration: 249 / (250), loss: 4.047806: 100%|██████████| 250/250 [00:07<00:00, 34.39it/s]\n"
     ]
    },
    {
     "name": "stdout",
     "output_type": "stream",
     "text": [
      "epoch: 14 / (30), loss: 4.161452, train acc: 7.23, val acc: 7.00\n",
      "======================================================================\n",
      "Training epoch 15/(30)\n",
      "----------------------------------------------------------------------\n"
     ]
    },
    {
     "name": "stderr",
     "output_type": "stream",
     "text": [
      "iteration: 249 / (250), loss: 4.159967: 100%|██████████| 250/250 [00:07<00:00, 35.06it/s]\n"
     ]
    },
    {
     "name": "stdout",
     "output_type": "stream",
     "text": [
      "epoch: 15 / (30), loss: 4.146490, train acc: 7.41, val acc: 7.44\n",
      "======================================================================\n",
      "Training epoch 16/(30)\n",
      "----------------------------------------------------------------------\n"
     ]
    },
    {
     "name": "stderr",
     "output_type": "stream",
     "text": [
      "iteration: 249 / (250), loss: 4.215947: 100%|██████████| 250/250 [00:07<00:00, 34.24it/s]\n"
     ]
    },
    {
     "name": "stdout",
     "output_type": "stream",
     "text": [
      "epoch: 16 / (30), loss: 4.131977, train acc: 8.05, val acc: 7.84\n",
      "======================================================================\n",
      "Training epoch 17/(30)\n",
      "----------------------------------------------------------------------\n"
     ]
    },
    {
     "name": "stderr",
     "output_type": "stream",
     "text": [
      "iteration: 249 / (250), loss: 4.203397: 100%|██████████| 250/250 [00:07<00:00, 34.99it/s]\n"
     ]
    },
    {
     "name": "stdout",
     "output_type": "stream",
     "text": [
      "epoch: 17 / (30), loss: 4.118082, train acc: 8.18, val acc: 7.84\n",
      "======================================================================\n",
      "Training epoch 18/(30)\n",
      "----------------------------------------------------------------------\n"
     ]
    },
    {
     "name": "stderr",
     "output_type": "stream",
     "text": [
      "iteration: 249 / (250), loss: 4.140161: 100%|██████████| 250/250 [00:07<00:00, 34.18it/s]\n"
     ]
    },
    {
     "name": "stdout",
     "output_type": "stream",
     "text": [
      "epoch: 18 / (30), loss: 4.107983, train acc: 8.62, val acc: 8.40\n",
      "======================================================================\n",
      "Training epoch 19/(30)\n",
      "----------------------------------------------------------------------\n"
     ]
    },
    {
     "name": "stderr",
     "output_type": "stream",
     "text": [
      "iteration: 249 / (250), loss: 4.138355: 100%|██████████| 250/250 [00:07<00:00, 34.39it/s]\n"
     ]
    },
    {
     "name": "stdout",
     "output_type": "stream",
     "text": [
      "epoch: 19 / (30), loss: 4.096970, train acc: 8.36, val acc: 8.10\n",
      "======================================================================\n",
      "Training epoch 20/(30)\n",
      "----------------------------------------------------------------------\n"
     ]
    },
    {
     "name": "stderr",
     "output_type": "stream",
     "text": [
      "iteration: 249 / (250), loss: 4.115779: 100%|██████████| 250/250 [00:07<00:00, 33.55it/s]\n"
     ]
    },
    {
     "name": "stdout",
     "output_type": "stream",
     "text": [
      "epoch: 20 / (30), loss: 4.087656, train acc: 8.37, val acc: 8.56\n",
      "======================================================================\n",
      "Training epoch 21/(30)\n",
      "----------------------------------------------------------------------\n"
     ]
    },
    {
     "name": "stderr",
     "output_type": "stream",
     "text": [
      "iteration: 249 / (250), loss: 4.083277: 100%|██████████| 250/250 [00:07<00:00, 34.63it/s]\n"
     ]
    },
    {
     "name": "stdout",
     "output_type": "stream",
     "text": [
      "epoch: 21 / (30), loss: 4.078289, train acc: 8.99, val acc: 8.86\n",
      "======================================================================\n",
      "Training epoch 22/(30)\n",
      "----------------------------------------------------------------------\n"
     ]
    },
    {
     "name": "stderr",
     "output_type": "stream",
     "text": [
      "iteration: 249 / (250), loss: 4.043270: 100%|██████████| 250/250 [00:07<00:00, 34.20it/s]\n"
     ]
    },
    {
     "name": "stdout",
     "output_type": "stream",
     "text": [
      "epoch: 22 / (30), loss: 4.069398, train acc: 9.31, val acc: 9.42\n",
      "======================================================================\n",
      "Training epoch 23/(30)\n",
      "----------------------------------------------------------------------\n"
     ]
    },
    {
     "name": "stderr",
     "output_type": "stream",
     "text": [
      "iteration: 249 / (250), loss: 4.054416: 100%|██████████| 250/250 [00:07<00:00, 34.05it/s]\n"
     ]
    },
    {
     "name": "stdout",
     "output_type": "stream",
     "text": [
      "epoch: 23 / (30), loss: 4.058602, train acc: 9.27, val acc: 8.70\n",
      "======================================================================\n",
      "Training epoch 24/(30)\n",
      "----------------------------------------------------------------------\n"
     ]
    },
    {
     "name": "stderr",
     "output_type": "stream",
     "text": [
      "iteration: 249 / (250), loss: 4.081995: 100%|██████████| 250/250 [00:07<00:00, 34.30it/s]\n"
     ]
    },
    {
     "name": "stdout",
     "output_type": "stream",
     "text": [
      "epoch: 24 / (30), loss: 4.047972, train acc: 9.22, val acc: 9.04\n",
      "======================================================================\n",
      "Training epoch 25/(30)\n",
      "----------------------------------------------------------------------\n"
     ]
    },
    {
     "name": "stderr",
     "output_type": "stream",
     "text": [
      "iteration: 249 / (250), loss: 4.002374: 100%|██████████| 250/250 [00:07<00:00, 34.58it/s]\n"
     ]
    },
    {
     "name": "stdout",
     "output_type": "stream",
     "text": [
      "epoch: 25 / (30), loss: 4.038815, train acc: 9.15, val acc: 9.00\n",
      "======================================================================\n",
      "Training epoch 26/(30)\n",
      "----------------------------------------------------------------------\n"
     ]
    },
    {
     "name": "stderr",
     "output_type": "stream",
     "text": [
      "iteration: 249 / (250), loss: 4.030162: 100%|██████████| 250/250 [00:07<00:00, 34.26it/s]\n"
     ]
    },
    {
     "name": "stdout",
     "output_type": "stream",
     "text": [
      "epoch: 26 / (30), loss: 4.030119, train acc: 9.42, val acc: 9.46\n",
      "======================================================================\n",
      "Training epoch 27/(30)\n",
      "----------------------------------------------------------------------\n"
     ]
    },
    {
     "name": "stderr",
     "output_type": "stream",
     "text": [
      "iteration: 249 / (250), loss: 4.102662: 100%|██████████| 250/250 [00:07<00:00, 34.08it/s]\n"
     ]
    },
    {
     "name": "stdout",
     "output_type": "stream",
     "text": [
      "epoch: 27 / (30), loss: 4.022871, train acc: 10.13, val acc: 9.98\n",
      "======================================================================\n",
      "Training epoch 28/(30)\n",
      "----------------------------------------------------------------------\n"
     ]
    },
    {
     "name": "stderr",
     "output_type": "stream",
     "text": [
      "iteration: 249 / (250), loss: 4.074293: 100%|██████████| 250/250 [00:07<00:00, 34.22it/s]\n"
     ]
    },
    {
     "name": "stdout",
     "output_type": "stream",
     "text": [
      "epoch: 28 / (30), loss: 4.013507, train acc: 10.03, val acc: 10.22\n",
      "======================================================================\n",
      "Training epoch 29/(30)\n",
      "----------------------------------------------------------------------\n"
     ]
    },
    {
     "name": "stderr",
     "output_type": "stream",
     "text": [
      "iteration: 249 / (250), loss: 3.906099: 100%|██████████| 250/250 [00:07<00:00, 33.95it/s]\n"
     ]
    },
    {
     "name": "stdout",
     "output_type": "stream",
     "text": [
      "epoch: 29 / (30), loss: 4.006348, train acc: 9.63, val acc: 9.04\n",
      "======================================================================\n",
      "Training epoch 30/(30)\n",
      "----------------------------------------------------------------------\n"
     ]
    },
    {
     "name": "stderr",
     "output_type": "stream",
     "text": [
      "iteration: 249 / (250), loss: 3.949129: 100%|██████████| 250/250 [00:07<00:00, 34.27it/s]\n"
     ]
    },
    {
     "name": "stdout",
     "output_type": "stream",
     "text": [
      "epoch: 30 / (30), loss: 4.002090, train acc: 9.82, val acc: 9.60\n"
     ]
    }
   ],
   "source": [
    "update_rule = 'gd'\n",
    "data_dimension = X_train.shape[1]\n",
    "num_hidden_nodes = 100\n",
    "num_classes = 100\n",
    "net = FirstNN(data_dimension, num_hidden_nodes, num_classes)\n",
    "learning_rate=0.01\n",
    "num_epoch=30\n",
    "batch_size=200\n",
    "param_init='nnid'  #small_std , #Xavier , #nnid\n",
    "# Train the network\n",
    "stats = net.train(X_train, Y_train, X_val, Y_val, \n",
    "                  num_iters=10000,\n",
    "                  num_epoch=30,\n",
    "                  batch_size=200, \n",
    "                  learning_rate=1e-2, \n",
    "                  verbose=True\n",
    "                 )"
   ]
  },
  {
   "cell_type": "code",
   "execution_count": 25,
   "metadata": {},
   "outputs": [
    {
     "name": "stdout",
     "output_type": "stream",
     "text": [
      "Train accuracy: 10.03\n",
      "Validation accuracy: 10.22\n",
      "Test accuracy: 9.84\n"
     ]
    }
   ],
   "source": [
    "# Predict on the train set\n",
    "Y_train_pred = net.predict(X_train, best_param=True)\n",
    "train_acc = 100*(Y_train_pred == Y_train).mean()\n",
    "print('Train accuracy: {:.2f}' .format(train_acc))\n",
    "\n",
    "# Predict on the validation set\n",
    "Y_val_pred = net.predict(X_val, best_param=True)\n",
    "val_acc = 100*(Y_val_pred == Y_val).mean()\n",
    "print('Validation accuracy: {:.2f}' .format(val_acc))\n",
    "\n",
    "# Predict on the test set\n",
    "Y_test_pred = net.predict(X_test, best_param=True)\n",
    "test_acc = 100*(Y_test_pred == Y_test).mean()\n",
    "print('Test accuracy: {:.2f}' .format(test_acc))"
   ]
  },
  {
   "cell_type": "code",
   "execution_count": 26,
   "metadata": {},
   "outputs": [
    {
     "name": "stdout",
     "output_type": "stream",
     "text": [
      "======================================================================\n",
      "Training epoch 1/(30)\n",
      "----------------------------------------------------------------------\n"
     ]
    },
    {
     "name": "stderr",
     "output_type": "stream",
     "text": [
      "iteration: 249 / (250), loss: 4.530013: 100%|██████████| 250/250 [00:07<00:00, 33.91it/s]\n"
     ]
    },
    {
     "name": "stdout",
     "output_type": "stream",
     "text": [
      "epoch: 1 / (30), loss: 4.571237, train acc: 3.24, val acc: 3.42\n",
      "======================================================================\n",
      "Training epoch 2/(30)\n",
      "----------------------------------------------------------------------\n"
     ]
    },
    {
     "name": "stderr",
     "output_type": "stream",
     "text": [
      "iteration: 249 / (250), loss: 4.477968: 100%|██████████| 250/250 [00:07<00:00, 34.56it/s]\n"
     ]
    },
    {
     "name": "stdout",
     "output_type": "stream",
     "text": [
      "epoch: 2 / (30), loss: 4.489311, train acc: 3.87, val acc: 3.90\n",
      "======================================================================\n",
      "Training epoch 3/(30)\n",
      "----------------------------------------------------------------------\n"
     ]
    },
    {
     "name": "stderr",
     "output_type": "stream",
     "text": [
      "iteration: 249 / (250), loss: 4.391304: 100%|██████████| 250/250 [00:07<00:00, 33.93it/s]\n"
     ]
    },
    {
     "name": "stdout",
     "output_type": "stream",
     "text": [
      "epoch: 3 / (30), loss: 4.428820, train acc: 4.95, val acc: 4.94\n",
      "======================================================================\n",
      "Training epoch 4/(30)\n",
      "----------------------------------------------------------------------\n"
     ]
    },
    {
     "name": "stderr",
     "output_type": "stream",
     "text": [
      "iteration: 249 / (250), loss: 4.377827: 100%|██████████| 250/250 [00:07<00:00, 34.78it/s]\n"
     ]
    },
    {
     "name": "stdout",
     "output_type": "stream",
     "text": [
      "epoch: 4 / (30), loss: 4.381988, train acc: 5.61, val acc: 5.60\n",
      "======================================================================\n",
      "Training epoch 5/(30)\n",
      "----------------------------------------------------------------------\n"
     ]
    },
    {
     "name": "stderr",
     "output_type": "stream",
     "text": [
      "iteration: 249 / (250), loss: 4.334381: 100%|██████████| 250/250 [00:07<00:00, 33.85it/s]\n"
     ]
    },
    {
     "name": "stdout",
     "output_type": "stream",
     "text": [
      "epoch: 5 / (30), loss: 4.342213, train acc: 5.66, val acc: 5.58\n",
      "======================================================================\n",
      "Training epoch 6/(30)\n",
      "----------------------------------------------------------------------\n"
     ]
    },
    {
     "name": "stderr",
     "output_type": "stream",
     "text": [
      "iteration: 249 / (250), loss: 4.313310: 100%|██████████| 250/250 [00:07<00:00, 34.44it/s]\n"
     ]
    },
    {
     "name": "stdout",
     "output_type": "stream",
     "text": [
      "epoch: 6 / (30), loss: 4.309025, train acc: 6.10, val acc: 5.96\n",
      "======================================================================\n",
      "Training epoch 7/(30)\n",
      "----------------------------------------------------------------------\n"
     ]
    },
    {
     "name": "stderr",
     "output_type": "stream",
     "text": [
      "iteration: 249 / (250), loss: 4.334208: 100%|██████████| 250/250 [00:07<00:00, 34.47it/s]\n"
     ]
    },
    {
     "name": "stdout",
     "output_type": "stream",
     "text": [
      "epoch: 7 / (30), loss: 4.280616, train acc: 6.10, val acc: 5.82\n",
      "======================================================================\n",
      "Training epoch 8/(30)\n",
      "----------------------------------------------------------------------\n"
     ]
    },
    {
     "name": "stderr",
     "output_type": "stream",
     "text": [
      "iteration: 249 / (250), loss: 4.337210: 100%|██████████| 250/250 [00:07<00:00, 34.75it/s]\n"
     ]
    },
    {
     "name": "stdout",
     "output_type": "stream",
     "text": [
      "epoch: 8 / (30), loss: 4.255011, train acc: 6.38, val acc: 6.38\n",
      "======================================================================\n",
      "Training epoch 9/(30)\n",
      "----------------------------------------------------------------------\n"
     ]
    },
    {
     "name": "stderr",
     "output_type": "stream",
     "text": [
      "iteration: 249 / (250), loss: 4.248039: 100%|██████████| 250/250 [00:07<00:00, 34.57it/s]\n"
     ]
    },
    {
     "name": "stdout",
     "output_type": "stream",
     "text": [
      "epoch: 9 / (30), loss: 4.232117, train acc: 6.76, val acc: 6.40\n",
      "======================================================================\n",
      "Training epoch 10/(30)\n",
      "----------------------------------------------------------------------\n"
     ]
    },
    {
     "name": "stderr",
     "output_type": "stream",
     "text": [
      "iteration: 249 / (250), loss: 4.067946: 100%|██████████| 250/250 [00:07<00:00, 33.63it/s]\n"
     ]
    },
    {
     "name": "stdout",
     "output_type": "stream",
     "text": [
      "epoch: 10 / (30), loss: 4.211573, train acc: 6.55, val acc: 6.02\n",
      "======================================================================\n",
      "Training epoch 11/(30)\n",
      "----------------------------------------------------------------------\n"
     ]
    },
    {
     "name": "stderr",
     "output_type": "stream",
     "text": [
      "iteration: 249 / (250), loss: 4.168317: 100%|██████████| 250/250 [00:07<00:00, 33.78it/s]\n"
     ]
    },
    {
     "name": "stdout",
     "output_type": "stream",
     "text": [
      "epoch: 11 / (30), loss: 4.194258, train acc: 6.63, val acc: 6.44\n",
      "======================================================================\n",
      "Training epoch 12/(30)\n",
      "----------------------------------------------------------------------\n"
     ]
    },
    {
     "name": "stderr",
     "output_type": "stream",
     "text": [
      "iteration: 249 / (250), loss: 4.185708: 100%|██████████| 250/250 [00:07<00:00, 34.56it/s]\n"
     ]
    },
    {
     "name": "stdout",
     "output_type": "stream",
     "text": [
      "epoch: 12 / (30), loss: 4.177582, train acc: 6.73, val acc: 6.40\n",
      "======================================================================\n",
      "Training epoch 13/(30)\n",
      "----------------------------------------------------------------------\n"
     ]
    },
    {
     "name": "stderr",
     "output_type": "stream",
     "text": [
      "iteration: 249 / (250), loss: 4.258515: 100%|██████████| 250/250 [00:07<00:00, 34.46it/s]\n"
     ]
    },
    {
     "name": "stdout",
     "output_type": "stream",
     "text": [
      "epoch: 13 / (30), loss: 4.159526, train acc: 7.09, val acc: 6.58\n",
      "======================================================================\n",
      "Training epoch 14/(30)\n",
      "----------------------------------------------------------------------\n"
     ]
    },
    {
     "name": "stderr",
     "output_type": "stream",
     "text": [
      "iteration: 249 / (250), loss: 4.045047: 100%|██████████| 250/250 [00:07<00:00, 34.82it/s]\n"
     ]
    },
    {
     "name": "stdout",
     "output_type": "stream",
     "text": [
      "epoch: 14 / (30), loss: 4.144973, train acc: 7.29, val acc: 6.54\n",
      "======================================================================\n",
      "Training epoch 15/(30)\n",
      "----------------------------------------------------------------------\n"
     ]
    },
    {
     "name": "stderr",
     "output_type": "stream",
     "text": [
      "iteration: 249 / (250), loss: 4.092495: 100%|██████████| 250/250 [00:07<00:00, 34.46it/s]\n"
     ]
    },
    {
     "name": "stdout",
     "output_type": "stream",
     "text": [
      "epoch: 15 / (30), loss: 4.133316, train acc: 7.68, val acc: 7.30\n",
      "======================================================================\n",
      "Training epoch 16/(30)\n",
      "----------------------------------------------------------------------\n"
     ]
    },
    {
     "name": "stderr",
     "output_type": "stream",
     "text": [
      "iteration: 249 / (250), loss: 4.098962: 100%|██████████| 250/250 [00:07<00:00, 34.57it/s]\n"
     ]
    },
    {
     "name": "stdout",
     "output_type": "stream",
     "text": [
      "epoch: 16 / (30), loss: 4.119515, train acc: 7.66, val acc: 7.06\n",
      "======================================================================\n",
      "Training epoch 17/(30)\n",
      "----------------------------------------------------------------------\n"
     ]
    },
    {
     "name": "stderr",
     "output_type": "stream",
     "text": [
      "iteration: 249 / (250), loss: 4.235733: 100%|██████████| 250/250 [00:07<00:00, 34.41it/s]\n"
     ]
    },
    {
     "name": "stdout",
     "output_type": "stream",
     "text": [
      "epoch: 17 / (30), loss: 4.109382, train acc: 7.82, val acc: 7.82\n",
      "======================================================================\n",
      "Training epoch 18/(30)\n",
      "----------------------------------------------------------------------\n"
     ]
    },
    {
     "name": "stderr",
     "output_type": "stream",
     "text": [
      "iteration: 249 / (250), loss: 4.023245: 100%|██████████| 250/250 [00:07<00:00, 34.43it/s]\n"
     ]
    },
    {
     "name": "stdout",
     "output_type": "stream",
     "text": [
      "epoch: 18 / (30), loss: 4.098181, train acc: 7.60, val acc: 7.14\n",
      "======================================================================\n",
      "Training epoch 19/(30)\n",
      "----------------------------------------------------------------------\n"
     ]
    },
    {
     "name": "stderr",
     "output_type": "stream",
     "text": [
      "iteration: 249 / (250), loss: 4.118090: 100%|██████████| 250/250 [00:07<00:00, 34.52it/s]\n"
     ]
    },
    {
     "name": "stdout",
     "output_type": "stream",
     "text": [
      "epoch: 19 / (30), loss: 4.091089, train acc: 8.28, val acc: 8.18\n",
      "======================================================================\n",
      "Training epoch 20/(30)\n",
      "----------------------------------------------------------------------\n"
     ]
    },
    {
     "name": "stderr",
     "output_type": "stream",
     "text": [
      "iteration: 249 / (250), loss: 4.100445: 100%|██████████| 250/250 [00:07<00:00, 33.10it/s]\n"
     ]
    },
    {
     "name": "stdout",
     "output_type": "stream",
     "text": [
      "epoch: 20 / (30), loss: 4.080171, train acc: 8.24, val acc: 8.10\n",
      "======================================================================\n",
      "Training epoch 21/(30)\n",
      "----------------------------------------------------------------------\n"
     ]
    },
    {
     "name": "stderr",
     "output_type": "stream",
     "text": [
      "iteration: 249 / (250), loss: 4.090770: 100%|██████████| 250/250 [00:07<00:00, 33.68it/s]\n"
     ]
    },
    {
     "name": "stdout",
     "output_type": "stream",
     "text": [
      "epoch: 21 / (30), loss: 4.071687, train acc: 8.60, val acc: 8.76\n",
      "======================================================================\n",
      "Training epoch 22/(30)\n",
      "----------------------------------------------------------------------\n"
     ]
    },
    {
     "name": "stderr",
     "output_type": "stream",
     "text": [
      "iteration: 249 / (250), loss: 3.978136: 100%|██████████| 250/250 [00:07<00:00, 34.54it/s]\n"
     ]
    },
    {
     "name": "stdout",
     "output_type": "stream",
     "text": [
      "epoch: 22 / (30), loss: 4.062133, train acc: 8.65, val acc: 8.66\n",
      "======================================================================\n",
      "Training epoch 23/(30)\n",
      "----------------------------------------------------------------------\n"
     ]
    },
    {
     "name": "stderr",
     "output_type": "stream",
     "text": [
      "iteration: 249 / (250), loss: 4.027003: 100%|██████████| 250/250 [00:07<00:00, 34.56it/s]\n"
     ]
    },
    {
     "name": "stdout",
     "output_type": "stream",
     "text": [
      "epoch: 23 / (30), loss: 4.054995, train acc: 8.61, val acc: 8.28\n",
      "======================================================================\n",
      "Training epoch 24/(30)\n",
      "----------------------------------------------------------------------\n"
     ]
    },
    {
     "name": "stderr",
     "output_type": "stream",
     "text": [
      "iteration: 249 / (250), loss: 4.021572: 100%|██████████| 250/250 [00:07<00:00, 34.11it/s]\n"
     ]
    },
    {
     "name": "stdout",
     "output_type": "stream",
     "text": [
      "epoch: 24 / (30), loss: 4.046744, train acc: 8.76, val acc: 8.36\n",
      "======================================================================\n",
      "Training epoch 25/(30)\n",
      "----------------------------------------------------------------------\n"
     ]
    },
    {
     "name": "stderr",
     "output_type": "stream",
     "text": [
      "iteration: 249 / (250), loss: 3.979281: 100%|██████████| 250/250 [00:07<00:00, 34.67it/s]\n"
     ]
    },
    {
     "name": "stdout",
     "output_type": "stream",
     "text": [
      "epoch: 25 / (30), loss: 4.046037, train acc: 9.29, val acc: 9.18\n",
      "======================================================================\n",
      "Training epoch 26/(30)\n",
      "----------------------------------------------------------------------\n"
     ]
    },
    {
     "name": "stderr",
     "output_type": "stream",
     "text": [
      "iteration: 249 / (250), loss: 4.039553: 100%|██████████| 250/250 [00:07<00:00, 33.82it/s]\n"
     ]
    },
    {
     "name": "stdout",
     "output_type": "stream",
     "text": [
      "epoch: 26 / (30), loss: 4.036995, train acc: 9.18, val acc: 8.80\n",
      "======================================================================\n",
      "Training epoch 27/(30)\n",
      "----------------------------------------------------------------------\n"
     ]
    },
    {
     "name": "stderr",
     "output_type": "stream",
     "text": [
      "iteration: 249 / (250), loss: 4.126941: 100%|██████████| 250/250 [00:07<00:00, 33.96it/s]\n"
     ]
    },
    {
     "name": "stdout",
     "output_type": "stream",
     "text": [
      "epoch: 27 / (30), loss: 4.027505, train acc: 9.18, val acc: 9.02\n",
      "======================================================================\n",
      "Training epoch 28/(30)\n",
      "----------------------------------------------------------------------\n"
     ]
    },
    {
     "name": "stderr",
     "output_type": "stream",
     "text": [
      "iteration: 249 / (250), loss: 3.917976: 100%|██████████| 250/250 [00:07<00:00, 33.99it/s]\n"
     ]
    },
    {
     "name": "stdout",
     "output_type": "stream",
     "text": [
      "epoch: 28 / (30), loss: 4.023177, train acc: 9.32, val acc: 8.66\n",
      "======================================================================\n",
      "Training epoch 29/(30)\n",
      "----------------------------------------------------------------------\n"
     ]
    },
    {
     "name": "stderr",
     "output_type": "stream",
     "text": [
      "iteration: 249 / (250), loss: 4.168535: 100%|██████████| 250/250 [00:07<00:00, 34.18it/s]\n"
     ]
    },
    {
     "name": "stdout",
     "output_type": "stream",
     "text": [
      "epoch: 29 / (30), loss: 4.013109, train acc: 9.62, val acc: 9.90\n",
      "======================================================================\n",
      "Training epoch 30/(30)\n",
      "----------------------------------------------------------------------\n"
     ]
    },
    {
     "name": "stderr",
     "output_type": "stream",
     "text": [
      "iteration: 249 / (250), loss: 4.042285: 100%|██████████| 250/250 [00:07<00:00, 34.71it/s]\n"
     ]
    },
    {
     "name": "stdout",
     "output_type": "stream",
     "text": [
      "epoch: 30 / (30), loss: 4.006840, train acc: 9.35, val acc: 9.42\n"
     ]
    }
   ],
   "source": [
    "update_rule = 'm_gd'\n",
    "data_dimension = X_train.shape[1]\n",
    "num_hidden_nodes = 100\n",
    "num_classes = 100\n",
    "net = FirstNN(data_dimension, num_hidden_nodes, num_classes)\n",
    "learning_rate=0.01\n",
    "num_epoch=30\n",
    "batch_size=200\n",
    "param_init='small_std'  #small_std , #Xavier , #nnid\n",
    "# Train the network\n",
    "stats = net.train(X_train, Y_train, X_val, Y_val, \n",
    "                  num_iters=10000,\n",
    "                  num_epoch=30,\n",
    "                  batch_size=200, \n",
    "                  learning_rate=1e-2, \n",
    "                  verbose=True\n",
    "                 )"
   ]
  },
  {
   "cell_type": "code",
   "execution_count": 27,
   "metadata": {},
   "outputs": [
    {
     "name": "stdout",
     "output_type": "stream",
     "text": [
      "Train accuracy: 9.62\n",
      "Validation accuracy: 9.90\n",
      "Test accuracy: 9.13\n"
     ]
    }
   ],
   "source": [
    "# Predict on the train set\n",
    "Y_train_pred = net.predict(X_train, best_param=True)\n",
    "train_acc = 100*(Y_train_pred == Y_train).mean()\n",
    "print('Train accuracy: {:.2f}' .format(train_acc))\n",
    "\n",
    "# Predict on the validation set\n",
    "Y_val_pred = net.predict(X_val, best_param=True)\n",
    "val_acc = 100*(Y_val_pred == Y_val).mean()\n",
    "print('Validation accuracy: {:.2f}' .format(val_acc))\n",
    "\n",
    "# Predict on the test set\n",
    "Y_test_pred = net.predict(X_test, best_param=True)\n",
    "test_acc = 100*(Y_test_pred == Y_test).mean()\n",
    "print('Test accuracy: {:.2f}' .format(test_acc))"
   ]
  },
  {
   "cell_type": "code",
   "execution_count": 28,
   "metadata": {},
   "outputs": [
    {
     "name": "stdout",
     "output_type": "stream",
     "text": [
      "======================================================================\n",
      "Training epoch 1/(30)\n",
      "----------------------------------------------------------------------\n"
     ]
    },
    {
     "name": "stderr",
     "output_type": "stream",
     "text": [
      "iteration: 249 / (250), loss: 4.505376: 100%|██████████| 250/250 [00:07<00:00, 33.69it/s]\n"
     ]
    },
    {
     "name": "stdout",
     "output_type": "stream",
     "text": [
      "epoch: 1 / (30), loss: 4.568699, train acc: 2.28, val acc: 2.10\n",
      "======================================================================\n",
      "Training epoch 2/(30)\n",
      "----------------------------------------------------------------------\n"
     ]
    },
    {
     "name": "stderr",
     "output_type": "stream",
     "text": [
      "iteration: 249 / (250), loss: 4.419784: 100%|██████████| 250/250 [00:07<00:00, 34.32it/s]\n"
     ]
    },
    {
     "name": "stdout",
     "output_type": "stream",
     "text": [
      "epoch: 2 / (30), loss: 4.482932, train acc: 2.47, val acc: 2.24\n",
      "======================================================================\n",
      "Training epoch 3/(30)\n",
      "----------------------------------------------------------------------\n"
     ]
    },
    {
     "name": "stderr",
     "output_type": "stream",
     "text": [
      "iteration: 249 / (250), loss: 4.380832: 100%|██████████| 250/250 [00:07<00:00, 34.39it/s]\n"
     ]
    },
    {
     "name": "stdout",
     "output_type": "stream",
     "text": [
      "epoch: 3 / (30), loss: 4.425667, train acc: 4.37, val acc: 4.30\n",
      "======================================================================\n",
      "Training epoch 4/(30)\n",
      "----------------------------------------------------------------------\n"
     ]
    },
    {
     "name": "stderr",
     "output_type": "stream",
     "text": [
      "iteration: 249 / (250), loss: 4.385040: 100%|██████████| 250/250 [00:07<00:00, 34.63it/s]\n"
     ]
    },
    {
     "name": "stdout",
     "output_type": "stream",
     "text": [
      "epoch: 4 / (30), loss: 4.383666, train acc: 4.86, val acc: 4.66\n",
      "======================================================================\n",
      "Training epoch 5/(30)\n",
      "----------------------------------------------------------------------\n"
     ]
    },
    {
     "name": "stderr",
     "output_type": "stream",
     "text": [
      "iteration: 249 / (250), loss: 4.327396: 100%|██████████| 250/250 [00:07<00:00, 33.73it/s]\n"
     ]
    },
    {
     "name": "stdout",
     "output_type": "stream",
     "text": [
      "epoch: 5 / (30), loss: 4.348372, train acc: 4.76, val acc: 4.32\n",
      "======================================================================\n",
      "Training epoch 6/(30)\n",
      "----------------------------------------------------------------------\n"
     ]
    },
    {
     "name": "stderr",
     "output_type": "stream",
     "text": [
      "iteration: 249 / (250), loss: 4.246808: 100%|██████████| 250/250 [00:07<00:00, 34.34it/s]\n"
     ]
    },
    {
     "name": "stdout",
     "output_type": "stream",
     "text": [
      "epoch: 6 / (30), loss: 4.318124, train acc: 5.30, val acc: 4.98\n",
      "======================================================================\n",
      "Training epoch 7/(30)\n",
      "----------------------------------------------------------------------\n"
     ]
    },
    {
     "name": "stderr",
     "output_type": "stream",
     "text": [
      "iteration: 249 / (250), loss: 4.274755: 100%|██████████| 250/250 [00:07<00:00, 34.48it/s]\n"
     ]
    },
    {
     "name": "stdout",
     "output_type": "stream",
     "text": [
      "epoch: 7 / (30), loss: 4.290505, train acc: 6.28, val acc: 6.08\n",
      "======================================================================\n",
      "Training epoch 8/(30)\n",
      "----------------------------------------------------------------------\n"
     ]
    },
    {
     "name": "stderr",
     "output_type": "stream",
     "text": [
      "iteration: 249 / (250), loss: 4.296519: 100%|██████████| 250/250 [00:07<00:00, 33.92it/s]\n"
     ]
    },
    {
     "name": "stdout",
     "output_type": "stream",
     "text": [
      "epoch: 8 / (30), loss: 4.265372, train acc: 6.04, val acc: 6.20\n",
      "======================================================================\n",
      "Training epoch 9/(30)\n",
      "----------------------------------------------------------------------\n"
     ]
    },
    {
     "name": "stderr",
     "output_type": "stream",
     "text": [
      "iteration: 249 / (250), loss: 4.207489: 100%|██████████| 250/250 [00:07<00:00, 34.55it/s]\n"
     ]
    },
    {
     "name": "stdout",
     "output_type": "stream",
     "text": [
      "epoch: 9 / (30), loss: 4.242973, train acc: 6.65, val acc: 6.28\n",
      "======================================================================\n",
      "Training epoch 10/(30)\n",
      "----------------------------------------------------------------------\n"
     ]
    },
    {
     "name": "stderr",
     "output_type": "stream",
     "text": [
      "iteration: 249 / (250), loss: 4.125286: 100%|██████████| 250/250 [00:07<00:00, 33.19it/s]\n"
     ]
    },
    {
     "name": "stdout",
     "output_type": "stream",
     "text": [
      "epoch: 10 / (30), loss: 4.224461, train acc: 6.49, val acc: 6.56\n",
      "======================================================================\n",
      "Training epoch 11/(30)\n",
      "----------------------------------------------------------------------\n"
     ]
    },
    {
     "name": "stderr",
     "output_type": "stream",
     "text": [
      "iteration: 249 / (250), loss: 4.203030: 100%|██████████| 250/250 [00:07<00:00, 34.39it/s]\n"
     ]
    },
    {
     "name": "stdout",
     "output_type": "stream",
     "text": [
      "epoch: 11 / (30), loss: 4.206093, train acc: 6.92, val acc: 6.62\n",
      "======================================================================\n",
      "Training epoch 12/(30)\n",
      "----------------------------------------------------------------------\n"
     ]
    },
    {
     "name": "stderr",
     "output_type": "stream",
     "text": [
      "iteration: 249 / (250), loss: 4.190342: 100%|██████████| 250/250 [00:07<00:00, 34.08it/s]\n"
     ]
    },
    {
     "name": "stdout",
     "output_type": "stream",
     "text": [
      "epoch: 12 / (30), loss: 4.189411, train acc: 6.85, val acc: 6.92\n",
      "======================================================================\n",
      "Training epoch 13/(30)\n",
      "----------------------------------------------------------------------\n"
     ]
    },
    {
     "name": "stderr",
     "output_type": "stream",
     "text": [
      "iteration: 249 / (250), loss: 4.114122: 100%|██████████| 250/250 [00:07<00:00, 34.69it/s]\n"
     ]
    },
    {
     "name": "stdout",
     "output_type": "stream",
     "text": [
      "epoch: 13 / (30), loss: 4.175358, train acc: 6.91, val acc: 6.84\n",
      "======================================================================\n",
      "Training epoch 14/(30)\n",
      "----------------------------------------------------------------------\n"
     ]
    },
    {
     "name": "stderr",
     "output_type": "stream",
     "text": [
      "iteration: 249 / (250), loss: 4.162842: 100%|██████████| 250/250 [00:07<00:00, 34.75it/s]\n"
     ]
    },
    {
     "name": "stdout",
     "output_type": "stream",
     "text": [
      "epoch: 14 / (30), loss: 4.160764, train acc: 7.05, val acc: 6.70\n",
      "======================================================================\n",
      "Training epoch 15/(30)\n",
      "----------------------------------------------------------------------\n"
     ]
    },
    {
     "name": "stderr",
     "output_type": "stream",
     "text": [
      "iteration: 249 / (250), loss: 4.189679: 100%|██████████| 250/250 [00:07<00:00, 34.52it/s]\n"
     ]
    },
    {
     "name": "stdout",
     "output_type": "stream",
     "text": [
      "epoch: 15 / (30), loss: 4.147769, train acc: 6.97, val acc: 6.64\n",
      "======================================================================\n",
      "Training epoch 16/(30)\n",
      "----------------------------------------------------------------------\n"
     ]
    },
    {
     "name": "stderr",
     "output_type": "stream",
     "text": [
      "iteration: 249 / (250), loss: 4.194631: 100%|██████████| 250/250 [00:07<00:00, 35.25it/s]\n"
     ]
    },
    {
     "name": "stdout",
     "output_type": "stream",
     "text": [
      "epoch: 16 / (30), loss: 4.134832, train acc: 7.28, val acc: 7.14\n",
      "======================================================================\n",
      "Training epoch 17/(30)\n",
      "----------------------------------------------------------------------\n"
     ]
    },
    {
     "name": "stderr",
     "output_type": "stream",
     "text": [
      "iteration: 249 / (250), loss: 4.101593: 100%|██████████| 250/250 [00:07<00:00, 34.81it/s]\n"
     ]
    },
    {
     "name": "stdout",
     "output_type": "stream",
     "text": [
      "epoch: 17 / (30), loss: 4.125325, train acc: 7.21, val acc: 6.70\n",
      "======================================================================\n",
      "Training epoch 18/(30)\n",
      "----------------------------------------------------------------------\n"
     ]
    },
    {
     "name": "stderr",
     "output_type": "stream",
     "text": [
      "iteration: 249 / (250), loss: 4.096018: 100%|██████████| 250/250 [00:07<00:00, 34.72it/s]\n"
     ]
    },
    {
     "name": "stdout",
     "output_type": "stream",
     "text": [
      "epoch: 18 / (30), loss: 4.116474, train acc: 7.68, val acc: 7.44\n",
      "======================================================================\n",
      "Training epoch 19/(30)\n",
      "----------------------------------------------------------------------\n"
     ]
    },
    {
     "name": "stderr",
     "output_type": "stream",
     "text": [
      "iteration: 249 / (250), loss: 4.152687: 100%|██████████| 250/250 [00:07<00:00, 33.58it/s]\n"
     ]
    },
    {
     "name": "stdout",
     "output_type": "stream",
     "text": [
      "epoch: 19 / (30), loss: 4.109470, train acc: 7.80, val acc: 7.62\n",
      "======================================================================\n",
      "Training epoch 20/(30)\n",
      "----------------------------------------------------------------------\n"
     ]
    },
    {
     "name": "stderr",
     "output_type": "stream",
     "text": [
      "iteration: 249 / (250), loss: 4.143396: 100%|██████████| 250/250 [00:07<00:00, 34.57it/s]\n"
     ]
    },
    {
     "name": "stdout",
     "output_type": "stream",
     "text": [
      "epoch: 20 / (30), loss: 4.099195, train acc: 7.86, val acc: 7.62\n",
      "======================================================================\n",
      "Training epoch 21/(30)\n",
      "----------------------------------------------------------------------\n"
     ]
    },
    {
     "name": "stderr",
     "output_type": "stream",
     "text": [
      "iteration: 249 / (250), loss: 4.084429: 100%|██████████| 250/250 [00:07<00:00, 33.79it/s]\n"
     ]
    },
    {
     "name": "stdout",
     "output_type": "stream",
     "text": [
      "epoch: 21 / (30), loss: 4.086514, train acc: 7.92, val acc: 7.58\n",
      "======================================================================\n",
      "Training epoch 22/(30)\n",
      "----------------------------------------------------------------------\n"
     ]
    },
    {
     "name": "stderr",
     "output_type": "stream",
     "text": [
      "iteration: 249 / (250), loss: 4.177191: 100%|██████████| 250/250 [00:07<00:00, 34.60it/s]\n"
     ]
    },
    {
     "name": "stdout",
     "output_type": "stream",
     "text": [
      "epoch: 22 / (30), loss: 4.078169, train acc: 8.56, val acc: 8.72\n",
      "======================================================================\n",
      "Training epoch 23/(30)\n",
      "----------------------------------------------------------------------\n"
     ]
    },
    {
     "name": "stderr",
     "output_type": "stream",
     "text": [
      "iteration: 249 / (250), loss: 4.101597: 100%|██████████| 250/250 [00:07<00:00, 34.35it/s]\n"
     ]
    },
    {
     "name": "stdout",
     "output_type": "stream",
     "text": [
      "epoch: 23 / (30), loss: 4.070971, train acc: 8.21, val acc: 7.74\n",
      "======================================================================\n",
      "Training epoch 24/(30)\n",
      "----------------------------------------------------------------------\n"
     ]
    },
    {
     "name": "stderr",
     "output_type": "stream",
     "text": [
      "iteration: 249 / (250), loss: 4.066665: 100%|██████████| 250/250 [00:07<00:00, 34.94it/s]\n"
     ]
    },
    {
     "name": "stdout",
     "output_type": "stream",
     "text": [
      "epoch: 24 / (30), loss: 4.061139, train acc: 8.38, val acc: 8.14\n",
      "======================================================================\n",
      "Training epoch 25/(30)\n",
      "----------------------------------------------------------------------\n"
     ]
    },
    {
     "name": "stderr",
     "output_type": "stream",
     "text": [
      "iteration: 249 / (250), loss: 4.105458: 100%|██████████| 250/250 [00:07<00:00, 34.51it/s]\n"
     ]
    },
    {
     "name": "stdout",
     "output_type": "stream",
     "text": [
      "epoch: 25 / (30), loss: 4.051222, train acc: 8.86, val acc: 8.86\n",
      "======================================================================\n",
      "Training epoch 26/(30)\n",
      "----------------------------------------------------------------------\n"
     ]
    },
    {
     "name": "stderr",
     "output_type": "stream",
     "text": [
      "iteration: 249 / (250), loss: 4.181983: 100%|██████████| 250/250 [00:07<00:00, 34.56it/s]\n"
     ]
    },
    {
     "name": "stdout",
     "output_type": "stream",
     "text": [
      "epoch: 26 / (30), loss: 4.047314, train acc: 8.91, val acc: 8.82\n",
      "======================================================================\n",
      "Training epoch 27/(30)\n",
      "----------------------------------------------------------------------\n"
     ]
    },
    {
     "name": "stderr",
     "output_type": "stream",
     "text": [
      "iteration: 249 / (250), loss: 4.258604: 100%|██████████| 250/250 [00:07<00:00, 34.57it/s]\n"
     ]
    },
    {
     "name": "stdout",
     "output_type": "stream",
     "text": [
      "epoch: 27 / (30), loss: 4.035710, train acc: 9.01, val acc: 8.66\n",
      "======================================================================\n",
      "Training epoch 28/(30)\n",
      "----------------------------------------------------------------------\n"
     ]
    },
    {
     "name": "stderr",
     "output_type": "stream",
     "text": [
      "iteration: 249 / (250), loss: 4.052740: 100%|██████████| 250/250 [00:07<00:00, 34.51it/s]\n"
     ]
    },
    {
     "name": "stdout",
     "output_type": "stream",
     "text": [
      "epoch: 28 / (30), loss: 4.029445, train acc: 9.14, val acc: 8.94\n",
      "======================================================================\n",
      "Training epoch 29/(30)\n",
      "----------------------------------------------------------------------\n"
     ]
    },
    {
     "name": "stderr",
     "output_type": "stream",
     "text": [
      "iteration: 249 / (250), loss: 4.022389: 100%|██████████| 250/250 [00:07<00:00, 34.51it/s]\n"
     ]
    },
    {
     "name": "stdout",
     "output_type": "stream",
     "text": [
      "epoch: 29 / (30), loss: 4.022174, train acc: 9.16, val acc: 9.14\n",
      "======================================================================\n",
      "Training epoch 30/(30)\n",
      "----------------------------------------------------------------------\n"
     ]
    },
    {
     "name": "stderr",
     "output_type": "stream",
     "text": [
      "iteration: 249 / (250), loss: 3.930105: 100%|██████████| 250/250 [00:07<00:00, 34.16it/s]\n"
     ]
    },
    {
     "name": "stdout",
     "output_type": "stream",
     "text": [
      "epoch: 30 / (30), loss: 4.016810, train acc: 9.22, val acc: 9.02\n"
     ]
    }
   ],
   "source": [
    "update_rule = 'm_gd'\n",
    "data_dimension = X_train.shape[1]\n",
    "num_hidden_nodes = 100\n",
    "num_classes = 100\n",
    "net = FirstNN(data_dimension, num_hidden_nodes, num_classes)\n",
    "learning_rate=0.01\n",
    "num_epoch=30\n",
    "batch_size=200\n",
    "param_init='Xavier'  #small_std , #Xavier , #nnid\n",
    "# Train the network\n",
    "stats = net.train(X_train, Y_train, X_val, Y_val, \n",
    "                  num_iters=10000,\n",
    "                  num_epoch=30,\n",
    "                  batch_size=200, \n",
    "                  learning_rate=1e-2, \n",
    "                  verbose=True\n",
    "                 )"
   ]
  },
  {
   "cell_type": "code",
   "execution_count": 29,
   "metadata": {},
   "outputs": [
    {
     "name": "stdout",
     "output_type": "stream",
     "text": [
      "Train accuracy: 9.16\n",
      "Validation accuracy: 9.14\n",
      "Test accuracy: 8.99\n"
     ]
    }
   ],
   "source": [
    "# Predict on the train set\n",
    "Y_train_pred = net.predict(X_train, best_param=True)\n",
    "train_acc = 100*(Y_train_pred == Y_train).mean()\n",
    "print('Train accuracy: {:.2f}' .format(train_acc))\n",
    "\n",
    "# Predict on the validation set\n",
    "Y_val_pred = net.predict(X_val, best_param=True)\n",
    "val_acc = 100*(Y_val_pred == Y_val).mean()\n",
    "print('Validation accuracy: {:.2f}' .format(val_acc))\n",
    "\n",
    "# Predict on the test set\n",
    "Y_test_pred = net.predict(X_test, best_param=True)\n",
    "test_acc = 100*(Y_test_pred == Y_test).mean()\n",
    "print('Test accuracy: {:.2f}' .format(test_acc))"
   ]
  },
  {
   "cell_type": "code",
   "execution_count": 30,
   "metadata": {},
   "outputs": [
    {
     "name": "stdout",
     "output_type": "stream",
     "text": [
      "======================================================================\n",
      "Training epoch 1/(30)\n",
      "----------------------------------------------------------------------\n"
     ]
    },
    {
     "name": "stderr",
     "output_type": "stream",
     "text": [
      "iteration: 249 / (250), loss: 4.531594: 100%|██████████| 250/250 [00:07<00:00, 33.25it/s]\n"
     ]
    },
    {
     "name": "stdout",
     "output_type": "stream",
     "text": [
      "epoch: 1 / (30), loss: 4.570118, train acc: 2.81, val acc: 2.64\n",
      "======================================================================\n",
      "Training epoch 2/(30)\n",
      "----------------------------------------------------------------------\n"
     ]
    },
    {
     "name": "stderr",
     "output_type": "stream",
     "text": [
      "iteration: 249 / (250), loss: 4.424194: 100%|██████████| 250/250 [00:07<00:00, 34.06it/s]\n"
     ]
    },
    {
     "name": "stdout",
     "output_type": "stream",
     "text": [
      "epoch: 2 / (30), loss: 4.482259, train acc: 3.73, val acc: 3.40\n",
      "======================================================================\n",
      "Training epoch 3/(30)\n",
      "----------------------------------------------------------------------\n"
     ]
    },
    {
     "name": "stderr",
     "output_type": "stream",
     "text": [
      "iteration: 249 / (250), loss: 4.367184: 100%|██████████| 250/250 [00:07<00:00, 34.15it/s]\n"
     ]
    },
    {
     "name": "stdout",
     "output_type": "stream",
     "text": [
      "epoch: 3 / (30), loss: 4.418798, train acc: 4.72, val acc: 4.56\n",
      "======================================================================\n",
      "Training epoch 4/(30)\n",
      "----------------------------------------------------------------------\n"
     ]
    },
    {
     "name": "stderr",
     "output_type": "stream",
     "text": [
      "iteration: 249 / (250), loss: 4.336257: 100%|██████████| 250/250 [00:07<00:00, 34.17it/s]\n"
     ]
    },
    {
     "name": "stdout",
     "output_type": "stream",
     "text": [
      "epoch: 4 / (30), loss: 4.369841, train acc: 5.17, val acc: 5.16\n",
      "======================================================================\n",
      "Training epoch 5/(30)\n",
      "----------------------------------------------------------------------\n"
     ]
    },
    {
     "name": "stderr",
     "output_type": "stream",
     "text": [
      "iteration: 249 / (250), loss: 4.348731: 100%|██████████| 250/250 [00:07<00:00, 34.39it/s]\n"
     ]
    },
    {
     "name": "stdout",
     "output_type": "stream",
     "text": [
      "epoch: 5 / (30), loss: 4.331779, train acc: 5.10, val acc: 4.98\n",
      "======================================================================\n",
      "Training epoch 6/(30)\n",
      "----------------------------------------------------------------------\n"
     ]
    },
    {
     "name": "stderr",
     "output_type": "stream",
     "text": [
      "iteration: 249 / (250), loss: 4.154651: 100%|██████████| 250/250 [00:07<00:00, 34.36it/s]\n"
     ]
    },
    {
     "name": "stdout",
     "output_type": "stream",
     "text": [
      "epoch: 6 / (30), loss: 4.299451, train acc: 5.77, val acc: 5.62\n",
      "======================================================================\n",
      "Training epoch 7/(30)\n",
      "----------------------------------------------------------------------\n"
     ]
    },
    {
     "name": "stderr",
     "output_type": "stream",
     "text": [
      "iteration: 249 / (250), loss: 4.290690: 100%|██████████| 250/250 [00:07<00:00, 34.75it/s]\n"
     ]
    },
    {
     "name": "stdout",
     "output_type": "stream",
     "text": [
      "epoch: 7 / (30), loss: 4.271400, train acc: 5.81, val acc: 5.80\n",
      "======================================================================\n",
      "Training epoch 8/(30)\n",
      "----------------------------------------------------------------------\n"
     ]
    },
    {
     "name": "stderr",
     "output_type": "stream",
     "text": [
      "iteration: 249 / (250), loss: 4.243206: 100%|██████████| 250/250 [00:07<00:00, 34.53it/s]\n"
     ]
    },
    {
     "name": "stdout",
     "output_type": "stream",
     "text": [
      "epoch: 8 / (30), loss: 4.247648, train acc: 6.29, val acc: 5.96\n",
      "======================================================================\n",
      "Training epoch 9/(30)\n",
      "----------------------------------------------------------------------\n"
     ]
    },
    {
     "name": "stderr",
     "output_type": "stream",
     "text": [
      "iteration: 249 / (250), loss: 4.184602: 100%|██████████| 250/250 [00:07<00:00, 34.52it/s]\n"
     ]
    },
    {
     "name": "stdout",
     "output_type": "stream",
     "text": [
      "epoch: 9 / (30), loss: 4.226468, train acc: 6.45, val acc: 6.62\n",
      "======================================================================\n",
      "Training epoch 10/(30)\n",
      "----------------------------------------------------------------------\n"
     ]
    },
    {
     "name": "stderr",
     "output_type": "stream",
     "text": [
      "iteration: 249 / (250), loss: 4.168494: 100%|██████████| 250/250 [00:07<00:00, 34.02it/s]\n"
     ]
    },
    {
     "name": "stdout",
     "output_type": "stream",
     "text": [
      "epoch: 10 / (30), loss: 4.207499, train acc: 6.12, val acc: 5.74\n",
      "======================================================================\n",
      "Training epoch 11/(30)\n",
      "----------------------------------------------------------------------\n"
     ]
    },
    {
     "name": "stderr",
     "output_type": "stream",
     "text": [
      "iteration: 249 / (250), loss: 4.194631: 100%|██████████| 250/250 [00:07<00:00, 34.01it/s]\n"
     ]
    },
    {
     "name": "stdout",
     "output_type": "stream",
     "text": [
      "epoch: 11 / (30), loss: 4.190523, train acc: 6.45, val acc: 6.02\n",
      "======================================================================\n",
      "Training epoch 12/(30)\n",
      "----------------------------------------------------------------------\n"
     ]
    },
    {
     "name": "stderr",
     "output_type": "stream",
     "text": [
      "iteration: 249 / (250), loss: 4.256467: 100%|██████████| 250/250 [00:07<00:00, 33.78it/s]\n"
     ]
    },
    {
     "name": "stdout",
     "output_type": "stream",
     "text": [
      "epoch: 12 / (30), loss: 4.175959, train acc: 6.76, val acc: 6.68\n",
      "======================================================================\n",
      "Training epoch 13/(30)\n",
      "----------------------------------------------------------------------\n"
     ]
    },
    {
     "name": "stderr",
     "output_type": "stream",
     "text": [
      "iteration: 249 / (250), loss: 4.147636: 100%|██████████| 250/250 [00:07<00:00, 34.75it/s]\n"
     ]
    },
    {
     "name": "stdout",
     "output_type": "stream",
     "text": [
      "epoch: 13 / (30), loss: 4.160823, train acc: 7.05, val acc: 6.34\n",
      "======================================================================\n",
      "Training epoch 14/(30)\n",
      "----------------------------------------------------------------------\n"
     ]
    },
    {
     "name": "stderr",
     "output_type": "stream",
     "text": [
      "iteration: 249 / (250), loss: 4.269857: 100%|██████████| 250/250 [00:07<00:00, 34.54it/s]\n"
     ]
    },
    {
     "name": "stdout",
     "output_type": "stream",
     "text": [
      "epoch: 14 / (30), loss: 4.145341, train acc: 7.58, val acc: 7.26\n",
      "======================================================================\n",
      "Training epoch 15/(30)\n",
      "----------------------------------------------------------------------\n"
     ]
    },
    {
     "name": "stderr",
     "output_type": "stream",
     "text": [
      "iteration: 249 / (250), loss: 4.099656: 100%|██████████| 250/250 [00:07<00:00, 34.47it/s]\n"
     ]
    },
    {
     "name": "stdout",
     "output_type": "stream",
     "text": [
      "epoch: 15 / (30), loss: 4.131335, train acc: 7.78, val acc: 7.48\n",
      "======================================================================\n",
      "Training epoch 16/(30)\n",
      "----------------------------------------------------------------------\n"
     ]
    },
    {
     "name": "stderr",
     "output_type": "stream",
     "text": [
      "iteration: 249 / (250), loss: 4.252428: 100%|██████████| 250/250 [00:07<00:00, 34.08it/s]\n"
     ]
    },
    {
     "name": "stdout",
     "output_type": "stream",
     "text": [
      "epoch: 16 / (30), loss: 4.123483, train acc: 7.57, val acc: 7.22\n",
      "======================================================================\n",
      "Training epoch 17/(30)\n",
      "----------------------------------------------------------------------\n"
     ]
    },
    {
     "name": "stderr",
     "output_type": "stream",
     "text": [
      "iteration: 249 / (250), loss: 4.016817: 100%|██████████| 250/250 [00:07<00:00, 34.14it/s]\n"
     ]
    },
    {
     "name": "stdout",
     "output_type": "stream",
     "text": [
      "epoch: 17 / (30), loss: 4.111925, train acc: 7.28, val acc: 6.94\n",
      "======================================================================\n",
      "Training epoch 18/(30)\n",
      "----------------------------------------------------------------------\n"
     ]
    },
    {
     "name": "stderr",
     "output_type": "stream",
     "text": [
      "iteration: 249 / (250), loss: 4.042559: 100%|██████████| 250/250 [00:07<00:00, 34.64it/s]\n"
     ]
    },
    {
     "name": "stdout",
     "output_type": "stream",
     "text": [
      "epoch: 18 / (30), loss: 4.103911, train acc: 7.69, val acc: 7.18\n",
      "======================================================================\n",
      "Training epoch 19/(30)\n",
      "----------------------------------------------------------------------\n"
     ]
    },
    {
     "name": "stderr",
     "output_type": "stream",
     "text": [
      "iteration: 249 / (250), loss: 4.172875: 100%|██████████| 250/250 [00:07<00:00, 34.17it/s]\n"
     ]
    },
    {
     "name": "stdout",
     "output_type": "stream",
     "text": [
      "epoch: 19 / (30), loss: 4.094419, train acc: 7.75, val acc: 7.22\n",
      "======================================================================\n",
      "Training epoch 20/(30)\n",
      "----------------------------------------------------------------------\n"
     ]
    },
    {
     "name": "stderr",
     "output_type": "stream",
     "text": [
      "iteration: 249 / (250), loss: 4.259504: 100%|██████████| 250/250 [00:07<00:00, 34.48it/s]\n"
     ]
    },
    {
     "name": "stdout",
     "output_type": "stream",
     "text": [
      "epoch: 20 / (30), loss: 4.085996, train acc: 7.72, val acc: 7.04\n",
      "======================================================================\n",
      "Training epoch 21/(30)\n",
      "----------------------------------------------------------------------\n"
     ]
    },
    {
     "name": "stderr",
     "output_type": "stream",
     "text": [
      "iteration: 249 / (250), loss: 4.210847: 100%|██████████| 250/250 [00:07<00:00, 34.00it/s]\n"
     ]
    },
    {
     "name": "stdout",
     "output_type": "stream",
     "text": [
      "epoch: 21 / (30), loss: 4.074666, train acc: 7.90, val acc: 7.66\n",
      "======================================================================\n",
      "Training epoch 22/(30)\n",
      "----------------------------------------------------------------------\n"
     ]
    },
    {
     "name": "stderr",
     "output_type": "stream",
     "text": [
      "iteration: 249 / (250), loss: 4.167443: 100%|██████████| 250/250 [00:07<00:00, 33.99it/s]\n"
     ]
    },
    {
     "name": "stdout",
     "output_type": "stream",
     "text": [
      "epoch: 22 / (30), loss: 4.065225, train acc: 8.63, val acc: 8.58\n",
      "======================================================================\n",
      "Training epoch 23/(30)\n",
      "----------------------------------------------------------------------\n"
     ]
    },
    {
     "name": "stderr",
     "output_type": "stream",
     "text": [
      "iteration: 249 / (250), loss: 3.953336: 100%|██████████| 250/250 [00:07<00:00, 35.32it/s]\n"
     ]
    },
    {
     "name": "stdout",
     "output_type": "stream",
     "text": [
      "epoch: 23 / (30), loss: 4.058196, train acc: 8.76, val acc: 8.36\n",
      "======================================================================\n",
      "Training epoch 24/(30)\n",
      "----------------------------------------------------------------------\n"
     ]
    },
    {
     "name": "stderr",
     "output_type": "stream",
     "text": [
      "iteration: 249 / (250), loss: 4.028993: 100%|██████████| 250/250 [00:07<00:00, 34.88it/s]\n"
     ]
    },
    {
     "name": "stdout",
     "output_type": "stream",
     "text": [
      "epoch: 24 / (30), loss: 4.051823, train acc: 8.41, val acc: 8.06\n",
      "======================================================================\n",
      "Training epoch 25/(30)\n",
      "----------------------------------------------------------------------\n"
     ]
    },
    {
     "name": "stderr",
     "output_type": "stream",
     "text": [
      "iteration: 249 / (250), loss: 3.978223: 100%|██████████| 250/250 [00:07<00:00, 34.59it/s]\n"
     ]
    },
    {
     "name": "stdout",
     "output_type": "stream",
     "text": [
      "epoch: 25 / (30), loss: 4.044583, train acc: 9.58, val acc: 8.94\n",
      "======================================================================\n",
      "Training epoch 26/(30)\n",
      "----------------------------------------------------------------------\n"
     ]
    },
    {
     "name": "stderr",
     "output_type": "stream",
     "text": [
      "iteration: 249 / (250), loss: 3.936041: 100%|██████████| 250/250 [00:07<00:00, 34.39it/s]\n"
     ]
    },
    {
     "name": "stdout",
     "output_type": "stream",
     "text": [
      "epoch: 26 / (30), loss: 4.040304, train acc: 8.89, val acc: 8.48\n",
      "======================================================================\n",
      "Training epoch 27/(30)\n",
      "----------------------------------------------------------------------\n"
     ]
    },
    {
     "name": "stderr",
     "output_type": "stream",
     "text": [
      "iteration: 249 / (250), loss: 3.994841: 100%|██████████| 250/250 [00:07<00:00, 34.39it/s]\n"
     ]
    },
    {
     "name": "stdout",
     "output_type": "stream",
     "text": [
      "epoch: 27 / (30), loss: 4.032159, train acc: 9.51, val acc: 9.62\n",
      "======================================================================\n",
      "Training epoch 28/(30)\n",
      "----------------------------------------------------------------------\n"
     ]
    },
    {
     "name": "stderr",
     "output_type": "stream",
     "text": [
      "iteration: 249 / (250), loss: 3.978291: 100%|██████████| 250/250 [00:07<00:00, 34.80it/s]\n"
     ]
    },
    {
     "name": "stdout",
     "output_type": "stream",
     "text": [
      "epoch: 28 / (30), loss: 4.026274, train acc: 9.35, val acc: 8.92\n",
      "======================================================================\n",
      "Training epoch 29/(30)\n",
      "----------------------------------------------------------------------\n"
     ]
    },
    {
     "name": "stderr",
     "output_type": "stream",
     "text": [
      "iteration: 249 / (250), loss: 4.047731: 100%|██████████| 250/250 [00:07<00:00, 34.47it/s]\n"
     ]
    },
    {
     "name": "stdout",
     "output_type": "stream",
     "text": [
      "epoch: 29 / (30), loss: 4.016854, train acc: 9.59, val acc: 9.60\n",
      "======================================================================\n",
      "Training epoch 30/(30)\n",
      "----------------------------------------------------------------------\n"
     ]
    },
    {
     "name": "stderr",
     "output_type": "stream",
     "text": [
      "iteration: 249 / (250), loss: 4.070206: 100%|██████████| 250/250 [00:07<00:00, 34.66it/s]\n"
     ]
    },
    {
     "name": "stdout",
     "output_type": "stream",
     "text": [
      "epoch: 30 / (30), loss: 4.009493, train acc: 9.70, val acc: 9.74\n"
     ]
    }
   ],
   "source": [
    "update_rule = 'm_gd'\n",
    "data_dimension = X_train.shape[1]\n",
    "num_hidden_nodes = 100\n",
    "num_classes = 100\n",
    "net = FirstNN(data_dimension, num_hidden_nodes, num_classes)\n",
    "learning_rate=0.01\n",
    "num_epoch=30\n",
    "batch_size=200\n",
    "param_init='nnid'  #small_std , #Xavier , #nnid\n",
    "# Train the network\n",
    "stats = net.train(X_train, Y_train, X_val, Y_val, \n",
    "                  num_iters=10000,\n",
    "                  num_epoch=30,\n",
    "                  batch_size=200, \n",
    "                  learning_rate=1e-2, \n",
    "                  verbose=True\n",
    "                 )"
   ]
  },
  {
   "cell_type": "code",
   "execution_count": 31,
   "metadata": {},
   "outputs": [
    {
     "name": "stdout",
     "output_type": "stream",
     "text": [
      "Train accuracy: 9.70\n",
      "Validation accuracy: 9.74\n",
      "Test accuracy: 9.39\n"
     ]
    }
   ],
   "source": [
    "# Predict on the train set\n",
    "Y_train_pred = net.predict(X_train, best_param=True)\n",
    "train_acc = 100*(Y_train_pred == Y_train).mean()\n",
    "print('Train accuracy: {:.2f}' .format(train_acc))\n",
    "\n",
    "# Predict on the validation set\n",
    "Y_val_pred = net.predict(X_val, best_param=True)\n",
    "val_acc = 100*(Y_val_pred == Y_val).mean()\n",
    "print('Validation accuracy: {:.2f}' .format(val_acc))\n",
    "\n",
    "# Predict on the test set\n",
    "Y_test_pred = net.predict(X_test, best_param=True)\n",
    "test_acc = 100*(Y_test_pred == Y_test).mean()\n",
    "print('Test accuracy: {:.2f}' .format(test_acc))"
   ]
  },
  {
   "cell_type": "code",
   "execution_count": 32,
   "metadata": {},
   "outputs": [
    {
     "name": "stdout",
     "output_type": "stream",
     "text": [
      "======================================================================\n",
      "Training epoch 1/(30)\n",
      "----------------------------------------------------------------------\n"
     ]
    },
    {
     "name": "stderr",
     "output_type": "stream",
     "text": [
      "iteration: 249 / (250), loss: 4.539552: 100%|██████████| 250/250 [00:07<00:00, 33.94it/s]\n"
     ]
    },
    {
     "name": "stdout",
     "output_type": "stream",
     "text": [
      "epoch: 1 / (30), loss: 4.570264, train acc: 2.96, val acc: 2.72\n",
      "======================================================================\n",
      "Training epoch 2/(30)\n",
      "----------------------------------------------------------------------\n"
     ]
    },
    {
     "name": "stderr",
     "output_type": "stream",
     "text": [
      "iteration: 249 / (250), loss: 4.456650: 100%|██████████| 250/250 [00:07<00:00, 34.80it/s]\n"
     ]
    },
    {
     "name": "stdout",
     "output_type": "stream",
     "text": [
      "epoch: 2 / (30), loss: 4.481466, train acc: 3.72, val acc: 3.60\n",
      "======================================================================\n",
      "Training epoch 3/(30)\n",
      "----------------------------------------------------------------------\n"
     ]
    },
    {
     "name": "stderr",
     "output_type": "stream",
     "text": [
      "iteration: 249 / (250), loss: 4.360699: 100%|██████████| 250/250 [00:07<00:00, 34.76it/s]\n"
     ]
    },
    {
     "name": "stdout",
     "output_type": "stream",
     "text": [
      "epoch: 3 / (30), loss: 4.415833, train acc: 4.39, val acc: 4.36\n",
      "======================================================================\n",
      "Training epoch 4/(30)\n",
      "----------------------------------------------------------------------\n"
     ]
    },
    {
     "name": "stderr",
     "output_type": "stream",
     "text": [
      "iteration: 249 / (250), loss: 4.347064: 100%|██████████| 250/250 [00:07<00:00, 34.80it/s]\n"
     ]
    },
    {
     "name": "stdout",
     "output_type": "stream",
     "text": [
      "epoch: 4 / (30), loss: 4.366962, train acc: 4.86, val acc: 4.82\n",
      "======================================================================\n",
      "Training epoch 5/(30)\n",
      "----------------------------------------------------------------------\n"
     ]
    },
    {
     "name": "stderr",
     "output_type": "stream",
     "text": [
      "iteration: 249 / (250), loss: 4.284290: 100%|██████████| 250/250 [00:07<00:00, 34.08it/s]\n"
     ]
    },
    {
     "name": "stdout",
     "output_type": "stream",
     "text": [
      "epoch: 5 / (30), loss: 4.327374, train acc: 5.50, val acc: 5.34\n",
      "======================================================================\n",
      "Training epoch 6/(30)\n",
      "----------------------------------------------------------------------\n"
     ]
    },
    {
     "name": "stderr",
     "output_type": "stream",
     "text": [
      "iteration: 249 / (250), loss: 4.274791: 100%|██████████| 250/250 [00:07<00:00, 35.08it/s]\n"
     ]
    },
    {
     "name": "stdout",
     "output_type": "stream",
     "text": [
      "epoch: 6 / (30), loss: 4.295520, train acc: 6.04, val acc: 5.72\n",
      "======================================================================\n",
      "Training epoch 7/(30)\n",
      "----------------------------------------------------------------------\n"
     ]
    },
    {
     "name": "stderr",
     "output_type": "stream",
     "text": [
      "iteration: 249 / (250), loss: 4.149919: 100%|██████████| 250/250 [00:07<00:00, 34.40it/s]\n"
     ]
    },
    {
     "name": "stdout",
     "output_type": "stream",
     "text": [
      "epoch: 7 / (30), loss: 4.267595, train acc: 5.63, val acc: 5.48\n",
      "======================================================================\n",
      "Training epoch 8/(30)\n",
      "----------------------------------------------------------------------\n"
     ]
    },
    {
     "name": "stderr",
     "output_type": "stream",
     "text": [
      "iteration: 249 / (250), loss: 4.222054: 100%|██████████| 250/250 [00:07<00:00, 34.55it/s]\n"
     ]
    },
    {
     "name": "stdout",
     "output_type": "stream",
     "text": [
      "epoch: 8 / (30), loss: 4.243273, train acc: 6.29, val acc: 5.74\n",
      "======================================================================\n",
      "Training epoch 9/(30)\n",
      "----------------------------------------------------------------------\n"
     ]
    },
    {
     "name": "stderr",
     "output_type": "stream",
     "text": [
      "iteration: 249 / (250), loss: 4.259497: 100%|██████████| 250/250 [00:07<00:00, 34.65it/s]\n"
     ]
    },
    {
     "name": "stdout",
     "output_type": "stream",
     "text": [
      "epoch: 9 / (30), loss: 4.220551, train acc: 6.32, val acc: 6.14\n",
      "======================================================================\n",
      "Training epoch 10/(30)\n",
      "----------------------------------------------------------------------\n"
     ]
    },
    {
     "name": "stderr",
     "output_type": "stream",
     "text": [
      "iteration: 249 / (250), loss: 4.171171: 100%|██████████| 250/250 [00:07<00:00, 34.56it/s]\n"
     ]
    },
    {
     "name": "stdout",
     "output_type": "stream",
     "text": [
      "epoch: 10 / (30), loss: 4.202327, train acc: 6.63, val acc: 6.66\n",
      "======================================================================\n",
      "Training epoch 11/(30)\n",
      "----------------------------------------------------------------------\n"
     ]
    },
    {
     "name": "stderr",
     "output_type": "stream",
     "text": [
      "iteration: 249 / (250), loss: 4.062575: 100%|██████████| 250/250 [00:07<00:00, 34.82it/s]\n"
     ]
    },
    {
     "name": "stdout",
     "output_type": "stream",
     "text": [
      "epoch: 11 / (30), loss: 4.183616, train acc: 6.65, val acc: 6.34\n",
      "======================================================================\n",
      "Training epoch 12/(30)\n",
      "----------------------------------------------------------------------\n"
     ]
    },
    {
     "name": "stderr",
     "output_type": "stream",
     "text": [
      "iteration: 249 / (250), loss: 4.228742: 100%|██████████| 250/250 [00:07<00:00, 34.33it/s]\n"
     ]
    },
    {
     "name": "stdout",
     "output_type": "stream",
     "text": [
      "epoch: 12 / (30), loss: 4.168857, train acc: 6.87, val acc: 6.70\n",
      "======================================================================\n",
      "Training epoch 13/(30)\n",
      "----------------------------------------------------------------------\n"
     ]
    },
    {
     "name": "stderr",
     "output_type": "stream",
     "text": [
      "iteration: 249 / (250), loss: 4.172975: 100%|██████████| 250/250 [00:07<00:00, 34.23it/s]\n"
     ]
    },
    {
     "name": "stdout",
     "output_type": "stream",
     "text": [
      "epoch: 13 / (30), loss: 4.153078, train acc: 6.85, val acc: 6.02\n",
      "======================================================================\n",
      "Training epoch 14/(30)\n",
      "----------------------------------------------------------------------\n"
     ]
    },
    {
     "name": "stderr",
     "output_type": "stream",
     "text": [
      "iteration: 249 / (250), loss: 4.108142: 100%|██████████| 250/250 [00:07<00:00, 35.16it/s]\n"
     ]
    },
    {
     "name": "stdout",
     "output_type": "stream",
     "text": [
      "epoch: 14 / (30), loss: 4.141099, train acc: 7.03, val acc: 6.98\n",
      "======================================================================\n",
      "Training epoch 15/(30)\n",
      "----------------------------------------------------------------------\n"
     ]
    },
    {
     "name": "stderr",
     "output_type": "stream",
     "text": [
      "iteration: 249 / (250), loss: 4.103144: 100%|██████████| 250/250 [00:07<00:00, 34.44it/s]\n"
     ]
    },
    {
     "name": "stdout",
     "output_type": "stream",
     "text": [
      "epoch: 15 / (30), loss: 4.127647, train acc: 6.90, val acc: 6.28\n",
      "======================================================================\n",
      "Training epoch 16/(30)\n",
      "----------------------------------------------------------------------\n"
     ]
    },
    {
     "name": "stderr",
     "output_type": "stream",
     "text": [
      "iteration: 249 / (250), loss: 4.182728: 100%|██████████| 250/250 [00:07<00:00, 34.87it/s]\n"
     ]
    },
    {
     "name": "stdout",
     "output_type": "stream",
     "text": [
      "epoch: 16 / (30), loss: 4.115964, train acc: 7.36, val acc: 7.06\n",
      "======================================================================\n",
      "Training epoch 17/(30)\n",
      "----------------------------------------------------------------------\n"
     ]
    },
    {
     "name": "stderr",
     "output_type": "stream",
     "text": [
      "iteration: 249 / (250), loss: 4.038077: 100%|██████████| 250/250 [00:07<00:00, 34.75it/s]\n"
     ]
    },
    {
     "name": "stdout",
     "output_type": "stream",
     "text": [
      "epoch: 17 / (30), loss: 4.102858, train acc: 7.64, val acc: 7.28\n",
      "======================================================================\n",
      "Training epoch 18/(30)\n",
      "----------------------------------------------------------------------\n"
     ]
    },
    {
     "name": "stderr",
     "output_type": "stream",
     "text": [
      "iteration: 249 / (250), loss: 4.130632: 100%|██████████| 250/250 [00:07<00:00, 34.80it/s]\n"
     ]
    },
    {
     "name": "stdout",
     "output_type": "stream",
     "text": [
      "epoch: 18 / (30), loss: 4.097221, train acc: 7.72, val acc: 7.68\n",
      "======================================================================\n",
      "Training epoch 19/(30)\n",
      "----------------------------------------------------------------------\n"
     ]
    },
    {
     "name": "stderr",
     "output_type": "stream",
     "text": [
      "iteration: 249 / (250), loss: 4.154429: 100%|██████████| 250/250 [00:07<00:00, 34.60it/s]\n"
     ]
    },
    {
     "name": "stdout",
     "output_type": "stream",
     "text": [
      "epoch: 19 / (30), loss: 4.087315, train acc: 8.12, val acc: 7.86\n",
      "======================================================================\n",
      "Training epoch 20/(30)\n",
      "----------------------------------------------------------------------\n"
     ]
    },
    {
     "name": "stderr",
     "output_type": "stream",
     "text": [
      "iteration: 249 / (250), loss: 4.014036: 100%|██████████| 250/250 [00:07<00:00, 34.53it/s]\n"
     ]
    },
    {
     "name": "stdout",
     "output_type": "stream",
     "text": [
      "epoch: 20 / (30), loss: 4.076527, train acc: 8.21, val acc: 7.82\n",
      "======================================================================\n",
      "Training epoch 21/(30)\n",
      "----------------------------------------------------------------------\n"
     ]
    },
    {
     "name": "stderr",
     "output_type": "stream",
     "text": [
      "iteration: 249 / (250), loss: 4.123671: 100%|██████████| 250/250 [00:07<00:00, 34.65it/s]\n"
     ]
    },
    {
     "name": "stdout",
     "output_type": "stream",
     "text": [
      "epoch: 21 / (30), loss: 4.068031, train acc: 8.65, val acc: 8.62\n",
      "======================================================================\n",
      "Training epoch 22/(30)\n",
      "----------------------------------------------------------------------\n"
     ]
    },
    {
     "name": "stderr",
     "output_type": "stream",
     "text": [
      "iteration: 249 / (250), loss: 4.112191: 100%|██████████| 250/250 [00:07<00:00, 33.23it/s]\n"
     ]
    },
    {
     "name": "stdout",
     "output_type": "stream",
     "text": [
      "epoch: 22 / (30), loss: 4.061367, train acc: 8.72, val acc: 8.56\n",
      "======================================================================\n",
      "Training epoch 23/(30)\n",
      "----------------------------------------------------------------------\n"
     ]
    },
    {
     "name": "stderr",
     "output_type": "stream",
     "text": [
      "iteration: 249 / (250), loss: 4.106103: 100%|██████████| 250/250 [00:07<00:00, 33.86it/s]\n"
     ]
    },
    {
     "name": "stdout",
     "output_type": "stream",
     "text": [
      "epoch: 23 / (30), loss: 4.051358, train acc: 8.00, val acc: 8.14\n",
      "======================================================================\n",
      "Training epoch 24/(30)\n",
      "----------------------------------------------------------------------\n"
     ]
    },
    {
     "name": "stderr",
     "output_type": "stream",
     "text": [
      "iteration: 249 / (250), loss: 3.995397: 100%|██████████| 250/250 [00:07<00:00, 34.56it/s]\n"
     ]
    },
    {
     "name": "stdout",
     "output_type": "stream",
     "text": [
      "epoch: 24 / (30), loss: 4.049346, train acc: 8.85, val acc: 8.76\n",
      "======================================================================\n",
      "Training epoch 25/(30)\n",
      "----------------------------------------------------------------------\n"
     ]
    },
    {
     "name": "stderr",
     "output_type": "stream",
     "text": [
      "iteration: 249 / (250), loss: 4.125977: 100%|██████████| 250/250 [00:07<00:00, 34.15it/s]\n"
     ]
    },
    {
     "name": "stdout",
     "output_type": "stream",
     "text": [
      "epoch: 25 / (30), loss: 4.039350, train acc: 8.65, val acc: 8.46\n",
      "======================================================================\n",
      "Training epoch 26/(30)\n",
      "----------------------------------------------------------------------\n"
     ]
    },
    {
     "name": "stderr",
     "output_type": "stream",
     "text": [
      "iteration: 249 / (250), loss: 3.973556: 100%|██████████| 250/250 [00:07<00:00, 34.29it/s]\n"
     ]
    },
    {
     "name": "stdout",
     "output_type": "stream",
     "text": [
      "epoch: 26 / (30), loss: 4.031032, train acc: 8.97, val acc: 8.84\n",
      "======================================================================\n",
      "Training epoch 27/(30)\n",
      "----------------------------------------------------------------------\n"
     ]
    },
    {
     "name": "stderr",
     "output_type": "stream",
     "text": [
      "iteration: 249 / (250), loss: 3.949757: 100%|██████████| 250/250 [00:07<00:00, 34.77it/s]\n"
     ]
    },
    {
     "name": "stdout",
     "output_type": "stream",
     "text": [
      "epoch: 27 / (30), loss: 4.025989, train acc: 9.39, val acc: 9.30\n",
      "======================================================================\n",
      "Training epoch 28/(30)\n",
      "----------------------------------------------------------------------\n"
     ]
    },
    {
     "name": "stderr",
     "output_type": "stream",
     "text": [
      "iteration: 249 / (250), loss: 4.002234: 100%|██████████| 250/250 [00:07<00:00, 35.02it/s]\n"
     ]
    },
    {
     "name": "stdout",
     "output_type": "stream",
     "text": [
      "epoch: 28 / (30), loss: 4.015246, train acc: 9.13, val acc: 8.98\n",
      "======================================================================\n",
      "Training epoch 29/(30)\n",
      "----------------------------------------------------------------------\n"
     ]
    },
    {
     "name": "stderr",
     "output_type": "stream",
     "text": [
      "iteration: 249 / (250), loss: 4.056039: 100%|██████████| 250/250 [00:07<00:00, 34.76it/s]\n"
     ]
    },
    {
     "name": "stdout",
     "output_type": "stream",
     "text": [
      "epoch: 29 / (30), loss: 4.013885, train acc: 9.29, val acc: 8.72\n",
      "======================================================================\n",
      "Training epoch 30/(30)\n",
      "----------------------------------------------------------------------\n"
     ]
    },
    {
     "name": "stderr",
     "output_type": "stream",
     "text": [
      "iteration: 249 / (250), loss: 3.944910: 100%|██████████| 250/250 [00:07<00:00, 34.76it/s]\n"
     ]
    },
    {
     "name": "stdout",
     "output_type": "stream",
     "text": [
      "epoch: 30 / (30), loss: 4.002689, train acc: 9.48, val acc: 9.42\n"
     ]
    }
   ],
   "source": [
    "update_rule = 'ns_gd'\n",
    "data_dimension = X_train.shape[1]\n",
    "num_hidden_nodes = 100\n",
    "num_classes = 100\n",
    "net = FirstNN(data_dimension, num_hidden_nodes, num_classes)\n",
    "learning_rate=0.01\n",
    "num_epoch=30\n",
    "batch_size=200\n",
    "param_init='small_std'  #small_std , #Xavier , #nnid\n",
    "# Train the network\n",
    "stats = net.train(X_train, Y_train, X_val, Y_val, \n",
    "                  num_iters=10000,\n",
    "                  num_epoch=30,\n",
    "                  batch_size=200, \n",
    "                  learning_rate=1e-2, \n",
    "                  verbose=True\n",
    "                 )"
   ]
  },
  {
   "cell_type": "code",
   "execution_count": 33,
   "metadata": {},
   "outputs": [
    {
     "name": "stdout",
     "output_type": "stream",
     "text": [
      "Train accuracy: 9.48\n",
      "Validation accuracy: 9.42\n",
      "Test accuracy: 9.51\n"
     ]
    }
   ],
   "source": [
    "# Predict on the train set\n",
    "Y_train_pred = net.predict(X_train, best_param=True)\n",
    "train_acc = 100*(Y_train_pred == Y_train).mean()\n",
    "print('Train accuracy: {:.2f}' .format(train_acc))\n",
    "\n",
    "# Predict on the validation set\n",
    "Y_val_pred = net.predict(X_val, best_param=True)\n",
    "val_acc = 100*(Y_val_pred == Y_val).mean()\n",
    "print('Validation accuracy: {:.2f}' .format(val_acc))\n",
    "\n",
    "# Predict on the test set\n",
    "Y_test_pred = net.predict(X_test, best_param=True)\n",
    "test_acc = 100*(Y_test_pred == Y_test).mean()\n",
    "print('Test accuracy: {:.2f}' .format(test_acc))"
   ]
  },
  {
   "cell_type": "code",
   "execution_count": 34,
   "metadata": {},
   "outputs": [
    {
     "name": "stdout",
     "output_type": "stream",
     "text": [
      "======================================================================\n",
      "Training epoch 1/(30)\n",
      "----------------------------------------------------------------------\n"
     ]
    },
    {
     "name": "stderr",
     "output_type": "stream",
     "text": [
      "iteration: 249 / (250), loss: 4.543990: 100%|██████████| 250/250 [00:07<00:00, 33.12it/s]\n"
     ]
    },
    {
     "name": "stdout",
     "output_type": "stream",
     "text": [
      "epoch: 1 / (30), loss: 4.571353, train acc: 3.58, val acc: 3.48\n",
      "======================================================================\n",
      "Training epoch 2/(30)\n",
      "----------------------------------------------------------------------\n"
     ]
    },
    {
     "name": "stderr",
     "output_type": "stream",
     "text": [
      "iteration: 249 / (250), loss: 4.455757: 100%|██████████| 250/250 [00:07<00:00, 34.84it/s]\n"
     ]
    },
    {
     "name": "stdout",
     "output_type": "stream",
     "text": [
      "epoch: 2 / (30), loss: 4.484067, train acc: 3.94, val acc: 4.00\n",
      "======================================================================\n",
      "Training epoch 3/(30)\n",
      "----------------------------------------------------------------------\n"
     ]
    },
    {
     "name": "stderr",
     "output_type": "stream",
     "text": [
      "iteration: 249 / (250), loss: 4.440291: 100%|██████████| 250/250 [00:07<00:00, 34.54it/s]\n"
     ]
    },
    {
     "name": "stdout",
     "output_type": "stream",
     "text": [
      "epoch: 3 / (30), loss: 4.421797, train acc: 5.18, val acc: 4.98\n",
      "======================================================================\n",
      "Training epoch 4/(30)\n",
      "----------------------------------------------------------------------\n"
     ]
    },
    {
     "name": "stderr",
     "output_type": "stream",
     "text": [
      "iteration: 249 / (250), loss: 4.321418: 100%|██████████| 250/250 [00:07<00:00, 34.68it/s]\n"
     ]
    },
    {
     "name": "stdout",
     "output_type": "stream",
     "text": [
      "epoch: 4 / (30), loss: 4.377145, train acc: 5.20, val acc: 5.06\n",
      "======================================================================\n",
      "Training epoch 5/(30)\n",
      "----------------------------------------------------------------------\n"
     ]
    },
    {
     "name": "stderr",
     "output_type": "stream",
     "text": [
      "iteration: 249 / (250), loss: 4.290435: 100%|██████████| 250/250 [00:07<00:00, 31.27it/s]\n"
     ]
    },
    {
     "name": "stdout",
     "output_type": "stream",
     "text": [
      "epoch: 5 / (30), loss: 4.340350, train acc: 5.81, val acc: 5.68\n",
      "======================================================================\n",
      "Training epoch 6/(30)\n",
      "----------------------------------------------------------------------\n"
     ]
    },
    {
     "name": "stderr",
     "output_type": "stream",
     "text": [
      "iteration: 249 / (250), loss: 4.267891: 100%|██████████| 250/250 [00:07<00:00, 33.87it/s]\n"
     ]
    },
    {
     "name": "stdout",
     "output_type": "stream",
     "text": [
      "epoch: 6 / (30), loss: 4.308736, train acc: 5.89, val acc: 6.02\n",
      "======================================================================\n",
      "Training epoch 7/(30)\n",
      "----------------------------------------------------------------------\n"
     ]
    },
    {
     "name": "stderr",
     "output_type": "stream",
     "text": [
      "iteration: 249 / (250), loss: 4.303301: 100%|██████████| 250/250 [00:07<00:00, 34.64it/s]\n"
     ]
    },
    {
     "name": "stdout",
     "output_type": "stream",
     "text": [
      "epoch: 7 / (30), loss: 4.282605, train acc: 6.13, val acc: 6.24\n",
      "======================================================================\n",
      "Training epoch 8/(30)\n",
      "----------------------------------------------------------------------\n"
     ]
    },
    {
     "name": "stderr",
     "output_type": "stream",
     "text": [
      "iteration: 249 / (250), loss: 4.206454: 100%|██████████| 250/250 [00:07<00:00, 34.46it/s]\n"
     ]
    },
    {
     "name": "stdout",
     "output_type": "stream",
     "text": [
      "epoch: 8 / (30), loss: 4.257577, train acc: 6.26, val acc: 6.12\n",
      "======================================================================\n",
      "Training epoch 9/(30)\n",
      "----------------------------------------------------------------------\n"
     ]
    },
    {
     "name": "stderr",
     "output_type": "stream",
     "text": [
      "iteration: 249 / (250), loss: 4.208280: 100%|██████████| 250/250 [00:07<00:00, 34.62it/s]\n"
     ]
    },
    {
     "name": "stdout",
     "output_type": "stream",
     "text": [
      "epoch: 9 / (30), loss: 4.235198, train acc: 6.35, val acc: 6.14\n",
      "======================================================================\n",
      "Training epoch 10/(30)\n",
      "----------------------------------------------------------------------\n"
     ]
    },
    {
     "name": "stderr",
     "output_type": "stream",
     "text": [
      "iteration: 249 / (250), loss: 4.222989: 100%|██████████| 250/250 [00:07<00:00, 34.65it/s]\n"
     ]
    },
    {
     "name": "stdout",
     "output_type": "stream",
     "text": [
      "epoch: 10 / (30), loss: 4.215710, train acc: 6.33, val acc: 6.30\n",
      "======================================================================\n",
      "Training epoch 11/(30)\n",
      "----------------------------------------------------------------------\n"
     ]
    },
    {
     "name": "stderr",
     "output_type": "stream",
     "text": [
      "iteration: 249 / (250), loss: 4.154345: 100%|██████████| 250/250 [00:07<00:00, 34.71it/s]\n"
     ]
    },
    {
     "name": "stdout",
     "output_type": "stream",
     "text": [
      "epoch: 11 / (30), loss: 4.198602, train acc: 6.96, val acc: 6.66\n",
      "======================================================================\n",
      "Training epoch 12/(30)\n",
      "----------------------------------------------------------------------\n"
     ]
    },
    {
     "name": "stderr",
     "output_type": "stream",
     "text": [
      "iteration: 249 / (250), loss: 4.174672: 100%|██████████| 250/250 [00:07<00:00, 32.88it/s]\n"
     ]
    },
    {
     "name": "stdout",
     "output_type": "stream",
     "text": [
      "epoch: 12 / (30), loss: 4.181672, train acc: 6.88, val acc: 6.90\n",
      "======================================================================\n",
      "Training epoch 13/(30)\n",
      "----------------------------------------------------------------------\n"
     ]
    },
    {
     "name": "stderr",
     "output_type": "stream",
     "text": [
      "iteration: 249 / (250), loss: 4.196441: 100%|██████████| 250/250 [00:07<00:00, 34.29it/s]\n"
     ]
    },
    {
     "name": "stdout",
     "output_type": "stream",
     "text": [
      "epoch: 13 / (30), loss: 4.167568, train acc: 6.69, val acc: 6.40\n",
      "======================================================================\n",
      "Training epoch 14/(30)\n",
      "----------------------------------------------------------------------\n"
     ]
    },
    {
     "name": "stderr",
     "output_type": "stream",
     "text": [
      "iteration: 249 / (250), loss: 4.122633: 100%|██████████| 250/250 [00:07<00:00, 34.67it/s]\n"
     ]
    },
    {
     "name": "stdout",
     "output_type": "stream",
     "text": [
      "epoch: 14 / (30), loss: 4.154620, train acc: 7.09, val acc: 6.96\n",
      "======================================================================\n",
      "Training epoch 15/(30)\n",
      "----------------------------------------------------------------------\n"
     ]
    },
    {
     "name": "stderr",
     "output_type": "stream",
     "text": [
      "iteration: 249 / (250), loss: 4.077570: 100%|██████████| 250/250 [00:07<00:00, 34.76it/s]\n"
     ]
    },
    {
     "name": "stdout",
     "output_type": "stream",
     "text": [
      "epoch: 15 / (30), loss: 4.140375, train acc: 7.27, val acc: 7.08\n",
      "======================================================================\n",
      "Training epoch 16/(30)\n",
      "----------------------------------------------------------------------\n"
     ]
    },
    {
     "name": "stderr",
     "output_type": "stream",
     "text": [
      "iteration: 249 / (250), loss: 4.099586: 100%|██████████| 250/250 [00:07<00:00, 34.71it/s]\n"
     ]
    },
    {
     "name": "stdout",
     "output_type": "stream",
     "text": [
      "epoch: 16 / (30), loss: 4.127888, train acc: 7.64, val acc: 7.48\n",
      "======================================================================\n",
      "Training epoch 17/(30)\n",
      "----------------------------------------------------------------------\n"
     ]
    },
    {
     "name": "stderr",
     "output_type": "stream",
     "text": [
      "iteration: 249 / (250), loss: 4.085841: 100%|██████████| 250/250 [00:07<00:00, 34.41it/s]\n"
     ]
    },
    {
     "name": "stdout",
     "output_type": "stream",
     "text": [
      "epoch: 17 / (30), loss: 4.115123, train acc: 7.54, val acc: 7.46\n",
      "======================================================================\n",
      "Training epoch 18/(30)\n",
      "----------------------------------------------------------------------\n"
     ]
    },
    {
     "name": "stderr",
     "output_type": "stream",
     "text": [
      "iteration: 249 / (250), loss: 4.034898: 100%|██████████| 250/250 [00:07<00:00, 35.12it/s]\n"
     ]
    },
    {
     "name": "stdout",
     "output_type": "stream",
     "text": [
      "epoch: 18 / (30), loss: 4.104996, train acc: 7.53, val acc: 7.06\n",
      "======================================================================\n",
      "Training epoch 19/(30)\n",
      "----------------------------------------------------------------------\n"
     ]
    },
    {
     "name": "stderr",
     "output_type": "stream",
     "text": [
      "iteration: 249 / (250), loss: 4.151259: 100%|██████████| 250/250 [00:08<00:00, 30.19it/s]\n"
     ]
    },
    {
     "name": "stdout",
     "output_type": "stream",
     "text": [
      "epoch: 19 / (30), loss: 4.095946, train acc: 7.74, val acc: 7.94\n",
      "======================================================================\n",
      "Training epoch 20/(30)\n",
      "----------------------------------------------------------------------\n"
     ]
    },
    {
     "name": "stderr",
     "output_type": "stream",
     "text": [
      "iteration: 249 / (250), loss: 4.108679: 100%|██████████| 250/250 [00:07<00:00, 34.05it/s]\n"
     ]
    },
    {
     "name": "stdout",
     "output_type": "stream",
     "text": [
      "epoch: 20 / (30), loss: 4.083640, train acc: 8.11, val acc: 7.68\n",
      "======================================================================\n",
      "Training epoch 21/(30)\n",
      "----------------------------------------------------------------------\n"
     ]
    },
    {
     "name": "stderr",
     "output_type": "stream",
     "text": [
      "iteration: 249 / (250), loss: 4.138432: 100%|██████████| 250/250 [00:07<00:00, 33.79it/s]\n"
     ]
    },
    {
     "name": "stdout",
     "output_type": "stream",
     "text": [
      "epoch: 21 / (30), loss: 4.075812, train acc: 7.98, val acc: 7.74\n",
      "======================================================================\n",
      "Training epoch 22/(30)\n",
      "----------------------------------------------------------------------\n"
     ]
    },
    {
     "name": "stderr",
     "output_type": "stream",
     "text": [
      "iteration: 249 / (250), loss: 4.155272: 100%|██████████| 250/250 [00:07<00:00, 34.59it/s]\n"
     ]
    },
    {
     "name": "stdout",
     "output_type": "stream",
     "text": [
      "epoch: 22 / (30), loss: 4.069559, train acc: 8.04, val acc: 7.68\n",
      "======================================================================\n",
      "Training epoch 23/(30)\n",
      "----------------------------------------------------------------------\n"
     ]
    },
    {
     "name": "stderr",
     "output_type": "stream",
     "text": [
      "iteration: 249 / (250), loss: 4.049766: 100%|██████████| 250/250 [00:07<00:00, 33.85it/s]\n"
     ]
    },
    {
     "name": "stdout",
     "output_type": "stream",
     "text": [
      "epoch: 23 / (30), loss: 4.067441, train acc: 8.66, val acc: 8.24\n",
      "======================================================================\n",
      "Training epoch 24/(30)\n",
      "----------------------------------------------------------------------\n"
     ]
    },
    {
     "name": "stderr",
     "output_type": "stream",
     "text": [
      "iteration: 249 / (250), loss: 4.165774: 100%|██████████| 250/250 [00:07<00:00, 34.46it/s]\n"
     ]
    },
    {
     "name": "stdout",
     "output_type": "stream",
     "text": [
      "epoch: 24 / (30), loss: 4.055053, train acc: 8.84, val acc: 8.52\n",
      "======================================================================\n",
      "Training epoch 25/(30)\n",
      "----------------------------------------------------------------------\n"
     ]
    },
    {
     "name": "stderr",
     "output_type": "stream",
     "text": [
      "iteration: 249 / (250), loss: 4.026623: 100%|██████████| 250/250 [00:07<00:00, 33.91it/s]\n"
     ]
    },
    {
     "name": "stdout",
     "output_type": "stream",
     "text": [
      "epoch: 25 / (30), loss: 4.049764, train acc: 8.78, val acc: 8.56\n",
      "======================================================================\n",
      "Training epoch 26/(30)\n",
      "----------------------------------------------------------------------\n"
     ]
    },
    {
     "name": "stderr",
     "output_type": "stream",
     "text": [
      "iteration: 249 / (250), loss: 4.111088: 100%|██████████| 250/250 [00:07<00:00, 34.28it/s]\n"
     ]
    },
    {
     "name": "stdout",
     "output_type": "stream",
     "text": [
      "epoch: 26 / (30), loss: 4.041072, train acc: 9.60, val acc: 9.34\n",
      "======================================================================\n",
      "Training epoch 27/(30)\n",
      "----------------------------------------------------------------------\n"
     ]
    },
    {
     "name": "stderr",
     "output_type": "stream",
     "text": [
      "iteration: 249 / (250), loss: 4.007900: 100%|██████████| 250/250 [00:07<00:00, 34.18it/s]\n"
     ]
    },
    {
     "name": "stdout",
     "output_type": "stream",
     "text": [
      "epoch: 27 / (30), loss: 4.028061, train acc: 9.47, val acc: 9.10\n",
      "======================================================================\n",
      "Training epoch 28/(30)\n",
      "----------------------------------------------------------------------\n"
     ]
    },
    {
     "name": "stderr",
     "output_type": "stream",
     "text": [
      "iteration: 249 / (250), loss: 4.007716: 100%|██████████| 250/250 [00:07<00:00, 34.54it/s]\n"
     ]
    },
    {
     "name": "stdout",
     "output_type": "stream",
     "text": [
      "epoch: 28 / (30), loss: 4.024537, train acc: 9.28, val acc: 8.74\n",
      "======================================================================\n",
      "Training epoch 29/(30)\n",
      "----------------------------------------------------------------------\n"
     ]
    },
    {
     "name": "stderr",
     "output_type": "stream",
     "text": [
      "iteration: 249 / (250), loss: 4.136692: 100%|██████████| 250/250 [00:07<00:00, 34.31it/s]\n"
     ]
    },
    {
     "name": "stdout",
     "output_type": "stream",
     "text": [
      "epoch: 29 / (30), loss: 4.021216, train acc: 9.61, val acc: 9.70\n",
      "======================================================================\n",
      "Training epoch 30/(30)\n",
      "----------------------------------------------------------------------\n"
     ]
    },
    {
     "name": "stderr",
     "output_type": "stream",
     "text": [
      "iteration: 249 / (250), loss: 3.973008: 100%|██████████| 250/250 [00:07<00:00, 34.44it/s]\n"
     ]
    },
    {
     "name": "stdout",
     "output_type": "stream",
     "text": [
      "epoch: 30 / (30), loss: 4.012897, train acc: 9.17, val acc: 8.72\n"
     ]
    }
   ],
   "source": [
    "update_rule = 'ns_gd'\n",
    "data_dimension = X_train.shape[1]\n",
    "num_hidden_nodes = 100\n",
    "num_classes = 100\n",
    "net = FirstNN(data_dimension, num_hidden_nodes, num_classes)\n",
    "learning_rate=0.01\n",
    "num_epoch=30\n",
    "batch_size=200\n",
    "param_init='Xavier'  #small_std , #Xavier , #nnid\n",
    "# Train the network\n",
    "stats = net.train(X_train, Y_train, X_val, Y_val, \n",
    "                  num_iters=10000,\n",
    "                  num_epoch=30,\n",
    "                  batch_size=200, \n",
    "                  learning_rate=1e-2, \n",
    "                  verbose=True\n",
    "                 )"
   ]
  },
  {
   "cell_type": "code",
   "execution_count": 35,
   "metadata": {},
   "outputs": [
    {
     "name": "stdout",
     "output_type": "stream",
     "text": [
      "Train accuracy: 9.61\n",
      "Validation accuracy: 9.70\n",
      "Test accuracy: 9.47\n"
     ]
    }
   ],
   "source": [
    "# Predict on the train set\n",
    "Y_train_pred = net.predict(X_train, best_param=True)\n",
    "train_acc = 100*(Y_train_pred == Y_train).mean()\n",
    "print('Train accuracy: {:.2f}' .format(train_acc))\n",
    "\n",
    "# Predict on the validation set\n",
    "Y_val_pred = net.predict(X_val, best_param=True)\n",
    "val_acc = 100*(Y_val_pred == Y_val).mean()\n",
    "print('Validation accuracy: {:.2f}' .format(val_acc))\n",
    "\n",
    "# Predict on the test set\n",
    "Y_test_pred = net.predict(X_test, best_param=True)\n",
    "test_acc = 100*(Y_test_pred == Y_test).mean()\n",
    "print('Test accuracy: {:.2f}' .format(test_acc))"
   ]
  },
  {
   "cell_type": "code",
   "execution_count": 36,
   "metadata": {},
   "outputs": [
    {
     "name": "stdout",
     "output_type": "stream",
     "text": [
      "======================================================================\n",
      "Training epoch 1/(30)\n",
      "----------------------------------------------------------------------\n"
     ]
    },
    {
     "name": "stderr",
     "output_type": "stream",
     "text": [
      "iteration: 249 / (250), loss: 4.501609: 100%|██████████| 250/250 [00:07<00:00, 34.05it/s]\n"
     ]
    },
    {
     "name": "stdout",
     "output_type": "stream",
     "text": [
      "epoch: 1 / (30), loss: 4.569676, train acc: 3.87, val acc: 4.02\n",
      "======================================================================\n",
      "Training epoch 2/(30)\n",
      "----------------------------------------------------------------------\n"
     ]
    },
    {
     "name": "stderr",
     "output_type": "stream",
     "text": [
      "iteration: 249 / (250), loss: 4.430848: 100%|██████████| 250/250 [00:07<00:00, 33.74it/s]\n"
     ]
    },
    {
     "name": "stdout",
     "output_type": "stream",
     "text": [
      "epoch: 2 / (30), loss: 4.482431, train acc: 4.45, val acc: 4.40\n",
      "======================================================================\n",
      "Training epoch 3/(30)\n",
      "----------------------------------------------------------------------\n"
     ]
    },
    {
     "name": "stderr",
     "output_type": "stream",
     "text": [
      "iteration: 249 / (250), loss: 4.448809: 100%|██████████| 250/250 [00:07<00:00, 34.45it/s]\n"
     ]
    },
    {
     "name": "stdout",
     "output_type": "stream",
     "text": [
      "epoch: 3 / (30), loss: 4.421417, train acc: 5.06, val acc: 4.78\n",
      "======================================================================\n",
      "Training epoch 4/(30)\n",
      "----------------------------------------------------------------------\n"
     ]
    },
    {
     "name": "stderr",
     "output_type": "stream",
     "text": [
      "iteration: 249 / (250), loss: 4.394929: 100%|██████████| 250/250 [00:07<00:00, 34.69it/s]\n"
     ]
    },
    {
     "name": "stdout",
     "output_type": "stream",
     "text": [
      "epoch: 4 / (30), loss: 4.376047, train acc: 4.95, val acc: 4.86\n",
      "======================================================================\n",
      "Training epoch 5/(30)\n",
      "----------------------------------------------------------------------\n"
     ]
    },
    {
     "name": "stderr",
     "output_type": "stream",
     "text": [
      "iteration: 249 / (250), loss: 4.265765: 100%|██████████| 250/250 [00:07<00:00, 34.58it/s]\n"
     ]
    },
    {
     "name": "stdout",
     "output_type": "stream",
     "text": [
      "epoch: 5 / (30), loss: 4.339750, train acc: 5.20, val acc: 4.84\n",
      "======================================================================\n",
      "Training epoch 6/(30)\n",
      "----------------------------------------------------------------------\n"
     ]
    },
    {
     "name": "stderr",
     "output_type": "stream",
     "text": [
      "iteration: 249 / (250), loss: 4.310167: 100%|██████████| 250/250 [00:07<00:00, 34.36it/s]\n"
     ]
    },
    {
     "name": "stdout",
     "output_type": "stream",
     "text": [
      "epoch: 6 / (30), loss: 4.310094, train acc: 5.67, val acc: 5.34\n",
      "======================================================================\n",
      "Training epoch 7/(30)\n",
      "----------------------------------------------------------------------\n"
     ]
    },
    {
     "name": "stderr",
     "output_type": "stream",
     "text": [
      "iteration: 249 / (250), loss: 4.189203: 100%|██████████| 250/250 [00:07<00:00, 34.45it/s]\n"
     ]
    },
    {
     "name": "stdout",
     "output_type": "stream",
     "text": [
      "epoch: 7 / (30), loss: 4.283235, train acc: 5.93, val acc: 5.80\n",
      "======================================================================\n",
      "Training epoch 8/(30)\n",
      "----------------------------------------------------------------------\n"
     ]
    },
    {
     "name": "stderr",
     "output_type": "stream",
     "text": [
      "iteration: 249 / (250), loss: 4.203086: 100%|██████████| 250/250 [00:07<00:00, 34.47it/s]\n"
     ]
    },
    {
     "name": "stdout",
     "output_type": "stream",
     "text": [
      "epoch: 8 / (30), loss: 4.259938, train acc: 6.30, val acc: 6.04\n",
      "======================================================================\n",
      "Training epoch 9/(30)\n",
      "----------------------------------------------------------------------\n"
     ]
    },
    {
     "name": "stderr",
     "output_type": "stream",
     "text": [
      "iteration: 249 / (250), loss: 4.325673: 100%|██████████| 250/250 [00:07<00:00, 34.53it/s]\n"
     ]
    },
    {
     "name": "stdout",
     "output_type": "stream",
     "text": [
      "epoch: 9 / (30), loss: 4.239271, train acc: 6.02, val acc: 5.80\n",
      "======================================================================\n",
      "Training epoch 10/(30)\n",
      "----------------------------------------------------------------------\n"
     ]
    },
    {
     "name": "stderr",
     "output_type": "stream",
     "text": [
      "iteration: 249 / (250), loss: 4.215449: 100%|██████████| 250/250 [00:07<00:00, 34.86it/s]\n"
     ]
    },
    {
     "name": "stdout",
     "output_type": "stream",
     "text": [
      "epoch: 10 / (30), loss: 4.219910, train acc: 6.68, val acc: 6.20\n",
      "======================================================================\n",
      "Training epoch 11/(30)\n",
      "----------------------------------------------------------------------\n"
     ]
    },
    {
     "name": "stderr",
     "output_type": "stream",
     "text": [
      "iteration: 249 / (250), loss: 4.251681: 100%|██████████| 250/250 [00:07<00:00, 34.86it/s]\n"
     ]
    },
    {
     "name": "stdout",
     "output_type": "stream",
     "text": [
      "epoch: 11 / (30), loss: 4.201561, train acc: 6.70, val acc: 6.76\n",
      "======================================================================\n",
      "Training epoch 12/(30)\n",
      "----------------------------------------------------------------------\n"
     ]
    },
    {
     "name": "stderr",
     "output_type": "stream",
     "text": [
      "iteration: 249 / (250), loss: 4.275295: 100%|██████████| 250/250 [00:07<00:00, 35.08it/s]\n"
     ]
    },
    {
     "name": "stdout",
     "output_type": "stream",
     "text": [
      "epoch: 12 / (30), loss: 4.186373, train acc: 6.87, val acc: 7.14\n",
      "======================================================================\n",
      "Training epoch 13/(30)\n",
      "----------------------------------------------------------------------\n"
     ]
    },
    {
     "name": "stderr",
     "output_type": "stream",
     "text": [
      "iteration: 249 / (250), loss: 4.123388: 100%|██████████| 250/250 [00:07<00:00, 34.46it/s]\n"
     ]
    },
    {
     "name": "stdout",
     "output_type": "stream",
     "text": [
      "epoch: 13 / (30), loss: 4.173774, train acc: 7.02, val acc: 6.80\n",
      "======================================================================\n",
      "Training epoch 14/(30)\n",
      "----------------------------------------------------------------------\n"
     ]
    },
    {
     "name": "stderr",
     "output_type": "stream",
     "text": [
      "iteration: 249 / (250), loss: 4.159723: 100%|██████████| 250/250 [00:07<00:00, 34.52it/s]\n"
     ]
    },
    {
     "name": "stdout",
     "output_type": "stream",
     "text": [
      "epoch: 14 / (30), loss: 4.159476, train acc: 6.69, val acc: 6.80\n",
      "======================================================================\n",
      "Training epoch 15/(30)\n",
      "----------------------------------------------------------------------\n"
     ]
    },
    {
     "name": "stderr",
     "output_type": "stream",
     "text": [
      "iteration: 249 / (250), loss: 4.185823: 100%|██████████| 250/250 [00:07<00:00, 34.75it/s]\n"
     ]
    },
    {
     "name": "stdout",
     "output_type": "stream",
     "text": [
      "epoch: 15 / (30), loss: 4.143138, train acc: 7.17, val acc: 7.34\n",
      "======================================================================\n",
      "Training epoch 16/(30)\n",
      "----------------------------------------------------------------------\n"
     ]
    },
    {
     "name": "stderr",
     "output_type": "stream",
     "text": [
      "iteration: 249 / (250), loss: 4.059892: 100%|██████████| 250/250 [00:07<00:00, 34.68it/s]\n"
     ]
    },
    {
     "name": "stdout",
     "output_type": "stream",
     "text": [
      "epoch: 16 / (30), loss: 4.132923, train acc: 7.46, val acc: 6.90\n",
      "======================================================================\n",
      "Training epoch 17/(30)\n",
      "----------------------------------------------------------------------\n"
     ]
    },
    {
     "name": "stderr",
     "output_type": "stream",
     "text": [
      "iteration: 249 / (250), loss: 4.026750: 100%|██████████| 250/250 [00:07<00:00, 35.07it/s]\n"
     ]
    },
    {
     "name": "stdout",
     "output_type": "stream",
     "text": [
      "epoch: 17 / (30), loss: 4.120130, train acc: 7.62, val acc: 7.62\n",
      "======================================================================\n",
      "Training epoch 18/(30)\n",
      "----------------------------------------------------------------------\n"
     ]
    },
    {
     "name": "stderr",
     "output_type": "stream",
     "text": [
      "iteration: 249 / (250), loss: 4.109412: 100%|██████████| 250/250 [00:07<00:00, 34.86it/s]\n"
     ]
    },
    {
     "name": "stdout",
     "output_type": "stream",
     "text": [
      "epoch: 18 / (30), loss: 4.110169, train acc: 7.75, val acc: 7.66\n",
      "======================================================================\n",
      "Training epoch 19/(30)\n",
      "----------------------------------------------------------------------\n"
     ]
    },
    {
     "name": "stderr",
     "output_type": "stream",
     "text": [
      "iteration: 249 / (250), loss: 4.174427: 100%|██████████| 250/250 [00:07<00:00, 34.31it/s]\n"
     ]
    },
    {
     "name": "stdout",
     "output_type": "stream",
     "text": [
      "epoch: 19 / (30), loss: 4.102215, train acc: 8.12, val acc: 7.64\n",
      "======================================================================\n",
      "Training epoch 20/(30)\n",
      "----------------------------------------------------------------------\n"
     ]
    },
    {
     "name": "stderr",
     "output_type": "stream",
     "text": [
      "iteration: 249 / (250), loss: 4.017099: 100%|██████████| 250/250 [00:07<00:00, 34.95it/s]\n"
     ]
    },
    {
     "name": "stdout",
     "output_type": "stream",
     "text": [
      "epoch: 20 / (30), loss: 4.087365, train acc: 7.99, val acc: 7.80\n",
      "======================================================================\n",
      "Training epoch 21/(30)\n",
      "----------------------------------------------------------------------\n"
     ]
    },
    {
     "name": "stderr",
     "output_type": "stream",
     "text": [
      "iteration: 249 / (250), loss: 4.139101: 100%|██████████| 250/250 [00:07<00:00, 33.42it/s]\n"
     ]
    },
    {
     "name": "stdout",
     "output_type": "stream",
     "text": [
      "epoch: 21 / (30), loss: 4.082918, train acc: 8.12, val acc: 7.86\n",
      "======================================================================\n",
      "Training epoch 22/(30)\n",
      "----------------------------------------------------------------------\n"
     ]
    },
    {
     "name": "stderr",
     "output_type": "stream",
     "text": [
      "iteration: 249 / (250), loss: 4.086695: 100%|██████████| 250/250 [00:07<00:00, 34.63it/s]\n"
     ]
    },
    {
     "name": "stdout",
     "output_type": "stream",
     "text": [
      "epoch: 22 / (30), loss: 4.074728, train acc: 8.19, val acc: 7.92\n",
      "======================================================================\n",
      "Training epoch 23/(30)\n",
      "----------------------------------------------------------------------\n"
     ]
    },
    {
     "name": "stderr",
     "output_type": "stream",
     "text": [
      "iteration: 249 / (250), loss: 4.135389: 100%|██████████| 250/250 [00:07<00:00, 33.51it/s]\n"
     ]
    },
    {
     "name": "stdout",
     "output_type": "stream",
     "text": [
      "epoch: 23 / (30), loss: 4.065945, train acc: 8.52, val acc: 8.68\n",
      "======================================================================\n",
      "Training epoch 24/(30)\n",
      "----------------------------------------------------------------------\n"
     ]
    },
    {
     "name": "stderr",
     "output_type": "stream",
     "text": [
      "iteration: 249 / (250), loss: 4.056854: 100%|██████████| 250/250 [00:07<00:00, 35.40it/s]\n"
     ]
    },
    {
     "name": "stdout",
     "output_type": "stream",
     "text": [
      "epoch: 24 / (30), loss: 4.057730, train acc: 8.35, val acc: 8.22\n",
      "======================================================================\n",
      "Training epoch 25/(30)\n",
      "----------------------------------------------------------------------\n"
     ]
    },
    {
     "name": "stderr",
     "output_type": "stream",
     "text": [
      "iteration: 249 / (250), loss: 4.116790: 100%|██████████| 250/250 [00:07<00:00, 35.33it/s]\n"
     ]
    },
    {
     "name": "stdout",
     "output_type": "stream",
     "text": [
      "epoch: 25 / (30), loss: 4.047804, train acc: 8.79, val acc: 8.26\n",
      "======================================================================\n",
      "Training epoch 26/(30)\n",
      "----------------------------------------------------------------------\n"
     ]
    },
    {
     "name": "stderr",
     "output_type": "stream",
     "text": [
      "iteration: 249 / (250), loss: 3.930340: 100%|██████████| 250/250 [00:07<00:00, 34.86it/s]\n"
     ]
    },
    {
     "name": "stdout",
     "output_type": "stream",
     "text": [
      "epoch: 26 / (30), loss: 4.037634, train acc: 8.79, val acc: 8.62\n",
      "======================================================================\n",
      "Training epoch 27/(30)\n",
      "----------------------------------------------------------------------\n"
     ]
    },
    {
     "name": "stderr",
     "output_type": "stream",
     "text": [
      "iteration: 249 / (250), loss: 4.077944: 100%|██████████| 250/250 [00:07<00:00, 34.77it/s]\n"
     ]
    },
    {
     "name": "stdout",
     "output_type": "stream",
     "text": [
      "epoch: 27 / (30), loss: 4.033648, train acc: 8.86, val acc: 8.62\n",
      "======================================================================\n",
      "Training epoch 28/(30)\n",
      "----------------------------------------------------------------------\n"
     ]
    },
    {
     "name": "stderr",
     "output_type": "stream",
     "text": [
      "iteration: 249 / (250), loss: 3.989792: 100%|██████████| 250/250 [00:07<00:00, 33.83it/s]\n"
     ]
    },
    {
     "name": "stdout",
     "output_type": "stream",
     "text": [
      "epoch: 28 / (30), loss: 4.026187, train acc: 9.15, val acc: 8.82\n",
      "======================================================================\n",
      "Training epoch 29/(30)\n",
      "----------------------------------------------------------------------\n"
     ]
    },
    {
     "name": "stderr",
     "output_type": "stream",
     "text": [
      "iteration: 249 / (250), loss: 4.097032: 100%|██████████| 250/250 [00:07<00:00, 34.40it/s]\n"
     ]
    },
    {
     "name": "stdout",
     "output_type": "stream",
     "text": [
      "epoch: 29 / (30), loss: 4.023510, train acc: 9.27, val acc: 9.28\n",
      "======================================================================\n",
      "Training epoch 30/(30)\n",
      "----------------------------------------------------------------------\n"
     ]
    },
    {
     "name": "stderr",
     "output_type": "stream",
     "text": [
      "iteration: 249 / (250), loss: 4.145875: 100%|██████████| 250/250 [00:07<00:00, 34.59it/s]\n"
     ]
    },
    {
     "name": "stdout",
     "output_type": "stream",
     "text": [
      "epoch: 30 / (30), loss: 4.015986, train acc: 9.23, val acc: 8.84\n"
     ]
    }
   ],
   "source": [
    "update_rule = 'ns_gd'\n",
    "data_dimension = X_train.shape[1]\n",
    "num_hidden_nodes = 100\n",
    "num_classes = 100\n",
    "net = FirstNN(data_dimension, num_hidden_nodes, num_classes)\n",
    "learning_rate=0.01\n",
    "num_epoch=30\n",
    "batch_size=200\n",
    "param_init='nnid'  #small_std , #Xavier , #nnid\n",
    "# Train the network\n",
    "stats = net.train(X_train, Y_train, X_val, Y_val, \n",
    "                  num_iters=10000,\n",
    "                  num_epoch=30,\n",
    "                  batch_size=200, \n",
    "                  learning_rate=1e-2, \n",
    "                  verbose=True\n",
    "                 )"
   ]
  },
  {
   "cell_type": "code",
   "execution_count": 37,
   "metadata": {},
   "outputs": [
    {
     "name": "stdout",
     "output_type": "stream",
     "text": [
      "Train accuracy: 9.27\n",
      "Validation accuracy: 9.28\n",
      "Test accuracy: 8.96\n"
     ]
    }
   ],
   "source": [
    "# Predict on the train set\n",
    "Y_train_pred = net.predict(X_train, best_param=True)\n",
    "train_acc = 100*(Y_train_pred == Y_train).mean()\n",
    "print('Train accuracy: {:.2f}' .format(train_acc))\n",
    "\n",
    "# Predict on the validation set\n",
    "Y_val_pred = net.predict(X_val, best_param=True)\n",
    "val_acc = 100*(Y_val_pred == Y_val).mean()\n",
    "print('Validation accuracy: {:.2f}' .format(val_acc))\n",
    "\n",
    "# Predict on the test set\n",
    "Y_test_pred = net.predict(X_test, best_param=True)\n",
    "test_acc = 100*(Y_test_pred == Y_test).mean()\n",
    "print('Test accuracy: {:.2f}' .format(test_acc))"
   ]
  }
 ],
 "metadata": {
  "kernelspec": {
   "display_name": "Python 3",
   "language": "python",
   "name": "python3"
  },
  "language_info": {
   "codemirror_mode": {
    "name": "ipython",
    "version": 3
   },
   "file_extension": ".py",
   "mimetype": "text/x-python",
   "name": "python",
   "nbconvert_exporter": "python",
   "pygments_lexer": "ipython3",
   "version": "3.11.4"
  }
 },
 "nbformat": 4,
 "nbformat_minor": 1
}
